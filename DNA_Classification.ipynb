{
 "cells": [
  {
   "cell_type": "code",
   "execution_count": 1,
   "id": "b03dd7e5",
   "metadata": {},
   "outputs": [],
   "source": [
    "import numpy as np\n",
    "import pandas as pd\n",
    "import matplotlib.pyplot as plt\n",
    "import tensorflow as tf\n",
    "from tensorflow import keras"
   ]
  },
  {
   "cell_type": "code",
   "execution_count": 2,
   "id": "cbea7cfe",
   "metadata": {},
   "outputs": [
    {
     "data": {
      "text/html": [
       "<div>\n",
       "<style scoped>\n",
       "    .dataframe tbody tr th:only-of-type {\n",
       "        vertical-align: middle;\n",
       "    }\n",
       "\n",
       "    .dataframe tbody tr th {\n",
       "        vertical-align: top;\n",
       "    }\n",
       "\n",
       "    .dataframe thead th {\n",
       "        text-align: right;\n",
       "    }\n",
       "</style>\n",
       "<table border=\"1\" class=\"dataframe\">\n",
       "  <thead>\n",
       "    <tr style=\"text-align: right;\">\n",
       "      <th></th>\n",
       "      <th>sequence</th>\n",
       "      <th>class</th>\n",
       "    </tr>\n",
       "  </thead>\n",
       "  <tbody>\n",
       "    <tr>\n",
       "      <th>0</th>\n",
       "      <td>ATGCCCCAACTAAATACTACCGTATGGCCCACCATAATTACCCCCA...</td>\n",
       "      <td>4</td>\n",
       "    </tr>\n",
       "    <tr>\n",
       "      <th>1</th>\n",
       "      <td>ATGAACGAAAATCTGTTCGCTTCATTCATTGCCCCCACAATCCTAG...</td>\n",
       "      <td>4</td>\n",
       "    </tr>\n",
       "    <tr>\n",
       "      <th>2</th>\n",
       "      <td>ATGTGTGGCATTTGGGCGCTGTTTGGCAGTGATGATTGCCTTTCTG...</td>\n",
       "      <td>3</td>\n",
       "    </tr>\n",
       "    <tr>\n",
       "      <th>3</th>\n",
       "      <td>ATGTGTGGCATTTGGGCGCTGTTTGGCAGTGATGATTGCCTTTCTG...</td>\n",
       "      <td>3</td>\n",
       "    </tr>\n",
       "    <tr>\n",
       "      <th>4</th>\n",
       "      <td>ATGCAACAGCATTTTGAATTTGAATACCAGACCAAAGTGGATGGTG...</td>\n",
       "      <td>3</td>\n",
       "    </tr>\n",
       "    <tr>\n",
       "      <th>...</th>\n",
       "      <td>...</td>\n",
       "      <td>...</td>\n",
       "    </tr>\n",
       "    <tr>\n",
       "      <th>4375</th>\n",
       "      <td>ATGGAAGATTTGGAGGAAACATTATTTGAAGAATTTGAAAACTATT...</td>\n",
       "      <td>0</td>\n",
       "    </tr>\n",
       "    <tr>\n",
       "      <th>4376</th>\n",
       "      <td>ATGCAGTCCTTTCGGGAGCAAAGCAGTTACCACGGAAACCAGCAAA...</td>\n",
       "      <td>6</td>\n",
       "    </tr>\n",
       "    <tr>\n",
       "      <th>4377</th>\n",
       "      <td>ATGCAGTCCTTTCGGGAGCAAAGCAGTTACCACGGAAACCAGCAAA...</td>\n",
       "      <td>6</td>\n",
       "    </tr>\n",
       "    <tr>\n",
       "      <th>4378</th>\n",
       "      <td>ATGGGGCACCTGGTTTGCTGTCTGTGTGGCAAGTGGGCCAGTTACC...</td>\n",
       "      <td>6</td>\n",
       "    </tr>\n",
       "    <tr>\n",
       "      <th>4379</th>\n",
       "      <td>ATGCAGTCCTTTCGGGAGCAAAGCAGTTACCACGGAAACCAGCAAA...</td>\n",
       "      <td>6</td>\n",
       "    </tr>\n",
       "  </tbody>\n",
       "</table>\n",
       "<p>4380 rows × 2 columns</p>\n",
       "</div>"
      ],
      "text/plain": [
       "                                               sequence  class\n",
       "0     ATGCCCCAACTAAATACTACCGTATGGCCCACCATAATTACCCCCA...      4\n",
       "1     ATGAACGAAAATCTGTTCGCTTCATTCATTGCCCCCACAATCCTAG...      4\n",
       "2     ATGTGTGGCATTTGGGCGCTGTTTGGCAGTGATGATTGCCTTTCTG...      3\n",
       "3     ATGTGTGGCATTTGGGCGCTGTTTGGCAGTGATGATTGCCTTTCTG...      3\n",
       "4     ATGCAACAGCATTTTGAATTTGAATACCAGACCAAAGTGGATGGTG...      3\n",
       "...                                                 ...    ...\n",
       "4375  ATGGAAGATTTGGAGGAAACATTATTTGAAGAATTTGAAAACTATT...      0\n",
       "4376  ATGCAGTCCTTTCGGGAGCAAAGCAGTTACCACGGAAACCAGCAAA...      6\n",
       "4377  ATGCAGTCCTTTCGGGAGCAAAGCAGTTACCACGGAAACCAGCAAA...      6\n",
       "4378  ATGGGGCACCTGGTTTGCTGTCTGTGTGGCAAGTGGGCCAGTTACC...      6\n",
       "4379  ATGCAGTCCTTTCGGGAGCAAAGCAGTTACCACGGAAACCAGCAAA...      6\n",
       "\n",
       "[4380 rows x 2 columns]"
      ]
     },
     "execution_count": 2,
     "metadata": {},
     "output_type": "execute_result"
    }
   ],
   "source": [
    "data = pd.read_csv('human_data.txt', delimiter = '\\t')\n",
    "data"
   ]
  },
  {
   "cell_type": "code",
   "execution_count": 3,
   "id": "2957c666",
   "metadata": {},
   "outputs": [
    {
     "name": "stdout",
     "output_type": "stream",
     "text": [
      "<class 'pandas.core.frame.DataFrame'>\n",
      "RangeIndex: 4380 entries, 0 to 4379\n",
      "Data columns (total 2 columns):\n",
      " #   Column    Non-Null Count  Dtype \n",
      "---  ------    --------------  ----- \n",
      " 0   sequence  4380 non-null   object\n",
      " 1   class     4380 non-null   int64 \n",
      "dtypes: int64(1), object(1)\n",
      "memory usage: 68.6+ KB\n"
     ]
    }
   ],
   "source": [
    "data.info()"
   ]
  },
  {
   "cell_type": "code",
   "execution_count": 4,
   "id": "2687bd82",
   "metadata": {},
   "outputs": [
    {
     "data": {
      "text/plain": [
       "6    1343\n",
       "4     711\n",
       "3     672\n",
       "1     534\n",
       "0     531\n",
       "2     349\n",
       "5     240\n",
       "Name: class, dtype: int64"
      ]
     },
     "execution_count": 4,
     "metadata": {},
     "output_type": "execute_result"
    }
   ],
   "source": [
    "data['class'].value_counts()"
   ]
  },
  {
   "cell_type": "code",
   "execution_count": 8,
   "id": "44dfda6a",
   "metadata": {},
   "outputs": [
    {
     "data": {
      "text/plain": [
       "'ATGCCCCAACTAAATACTACCGTATGGCCCACCATAATTACCCCCATACTCCTTACACTATTCCTCATCACCCAACTAAAAATATTAAACACAAACTACCACCTACCTCCCTCACCAAAGCCCATAAAAATAAAAAATTATAACAAACCCTGAGAACCAAAATGAACGAAAATCTGTTCGCTTCATTCATTGCCCCCACAATCCTAG'"
      ]
     },
     "execution_count": 8,
     "metadata": {},
     "output_type": "execute_result"
    }
   ],
   "source": [
    "a = data.iloc[0, 0]\n",
    "a"
   ]
  },
  {
   "cell_type": "code",
   "execution_count": 18,
   "id": "f4abd66c",
   "metadata": {
    "collapsed": true
   },
   "outputs": [
    {
     "name": "stdout",
     "output_type": "stream",
     "text": [
      "atgccc\n",
      "tgcccc\n",
      "gcccca\n",
      "ccccaa\n",
      "cccaac\n",
      "ccaact\n",
      "caacta\n",
      "aactaa\n",
      "actaaa\n",
      "ctaaat\n",
      "taaata\n",
      "aaatac\n",
      "aatact\n",
      "atacta\n",
      "tactac\n",
      "actacc\n",
      "ctaccg\n",
      "taccgt\n",
      "accgta\n",
      "ccgtat\n",
      "cgtatg\n",
      "gtatgg\n",
      "tatggc\n",
      "atggcc\n",
      "tggccc\n",
      "ggccca\n",
      "gcccac\n",
      "cccacc\n",
      "ccacca\n",
      "caccat\n",
      "accata\n",
      "ccataa\n",
      "cataat\n",
      "ataatt\n",
      "taatta\n",
      "aattac\n",
      "attacc\n",
      "ttaccc\n",
      "tacccc\n",
      "accccc\n",
      "ccccca\n",
      "ccccat\n",
      "cccata\n",
      "ccatac\n",
      "catact\n",
      "atactc\n",
      "tactcc\n",
      "actcct\n",
      "ctcctt\n",
      "tcctta\n",
      "ccttac\n",
      "cttaca\n",
      "ttacac\n",
      "tacact\n",
      "acacta\n",
      "cactat\n",
      "actatt\n",
      "ctattc\n",
      "tattcc\n",
      "attcct\n",
      "ttcctc\n",
      "tcctca\n",
      "cctcat\n",
      "ctcatc\n",
      "tcatca\n",
      "catcac\n",
      "atcacc\n",
      "tcaccc\n",
      "caccca\n",
      "acccaa\n",
      "cccaac\n",
      "ccaact\n",
      "caacta\n",
      "aactaa\n",
      "actaaa\n",
      "ctaaaa\n",
      "taaaaa\n",
      "aaaaat\n",
      "aaaata\n",
      "aaatat\n",
      "aatatt\n",
      "atatta\n",
      "tattaa\n",
      "attaaa\n",
      "ttaaac\n",
      "taaaca\n",
      "aaacac\n",
      "aacaca\n",
      "acacaa\n",
      "cacaaa\n",
      "acaaac\n",
      "caaact\n",
      "aaacta\n",
      "aactac\n",
      "actacc\n",
      "ctacca\n",
      "taccac\n",
      "accacc\n",
      "ccacct\n",
      "caccta\n",
      "acctac\n",
      "cctacc\n",
      "ctacct\n",
      "tacctc\n",
      "acctcc\n",
      "cctccc\n",
      "ctccct\n",
      "tccctc\n",
      "ccctca\n",
      "cctcac\n",
      "ctcacc\n",
      "tcacca\n",
      "caccaa\n",
      "accaaa\n",
      "ccaaag\n",
      "caaagc\n",
      "aaagcc\n",
      "aagccc\n",
      "agccca\n",
      "gcccat\n",
      "cccata\n",
      "ccataa\n",
      "cataaa\n",
      "ataaaa\n",
      "taaaaa\n",
      "aaaaat\n",
      "aaaata\n",
      "aaataa\n",
      "aataaa\n",
      "ataaaa\n",
      "taaaaa\n",
      "aaaaaa\n",
      "aaaaat\n",
      "aaaatt\n",
      "aaatta\n",
      "aattat\n",
      "attata\n",
      "ttataa\n",
      "tataac\n",
      "ataaca\n",
      "taacaa\n",
      "aacaaa\n",
      "acaaac\n",
      "caaacc\n",
      "aaaccc\n",
      "aaccct\n",
      "accctg\n",
      "ccctga\n",
      "cctgag\n",
      "ctgaga\n",
      "tgagaa\n",
      "gagaac\n",
      "agaacc\n",
      "gaacca\n",
      "aaccaa\n",
      "accaaa\n",
      "ccaaaa\n",
      "caaaat\n",
      "aaaatg\n",
      "aaatga\n",
      "aatgaa\n",
      "atgaac\n",
      "tgaacg\n",
      "gaacga\n",
      "aacgaa\n",
      "acgaaa\n",
      "cgaaaa\n",
      "gaaaat\n",
      "aaaatc\n",
      "aaatct\n",
      "aatctg\n",
      "atctgt\n",
      "tctgtt\n",
      "ctgttc\n",
      "tgttcg\n",
      "gttcgc\n",
      "ttcgct\n",
      "tcgctt\n",
      "cgcttc\n",
      "gcttca\n",
      "cttcat\n",
      "ttcatt\n",
      "tcattc\n",
      "cattca\n",
      "attcat\n",
      "ttcatt\n",
      "tcattg\n",
      "cattgc\n",
      "attgcc\n",
      "ttgccc\n",
      "tgcccc\n",
      "gccccc\n",
      "ccccca\n",
      "ccccac\n",
      "cccaca\n",
      "ccacaa\n",
      "cacaat\n",
      "acaatc\n",
      "caatcc\n",
      "aatcct\n",
      "atccta\n",
      "tcctag\n"
     ]
    }
   ],
   "source": [
    "k = 6\n",
    "sequences = []\n",
    "for x in range(len(a) - k + 1):\n",
    "    token = a[x: x + k].lower()\n",
    "    sequences.append(token)\n",
    "    print(token)"
   ]
  },
  {
   "cell_type": "code",
   "execution_count": 19,
   "id": "f06b2f6e",
   "metadata": {},
   "outputs": [
    {
     "data": {
      "text/plain": [
       "202"
      ]
     },
     "execution_count": 19,
     "metadata": {},
     "output_type": "execute_result"
    }
   ],
   "source": [
    "len(sequences)"
   ]
  },
  {
   "cell_type": "code",
   "execution_count": 25,
   "id": "aad05be8",
   "metadata": {},
   "outputs": [],
   "source": [
    "def get_kmers(seq, k):\n",
    "    token = [seq[x: x + k].lower() for x in range(len(seq) - k + 1)]\n",
    "    return token"
   ]
  },
  {
   "cell_type": "code",
   "execution_count": 26,
   "id": "f63e035a",
   "metadata": {},
   "outputs": [],
   "source": [
    "data['content'] = data.apply(lambda x: get_kmers(x['sequence'], 6), axis = 1)"
   ]
  },
  {
   "cell_type": "code",
   "execution_count": 27,
   "id": "be67dccf",
   "metadata": {},
   "outputs": [
    {
     "data": {
      "text/html": [
       "<div>\n",
       "<style scoped>\n",
       "    .dataframe tbody tr th:only-of-type {\n",
       "        vertical-align: middle;\n",
       "    }\n",
       "\n",
       "    .dataframe tbody tr th {\n",
       "        vertical-align: top;\n",
       "    }\n",
       "\n",
       "    .dataframe thead th {\n",
       "        text-align: right;\n",
       "    }\n",
       "</style>\n",
       "<table border=\"1\" class=\"dataframe\">\n",
       "  <thead>\n",
       "    <tr style=\"text-align: right;\">\n",
       "      <th></th>\n",
       "      <th>sequence</th>\n",
       "      <th>class</th>\n",
       "      <th>content</th>\n",
       "    </tr>\n",
       "  </thead>\n",
       "  <tbody>\n",
       "    <tr>\n",
       "      <th>0</th>\n",
       "      <td>ATGCCCCAACTAAATACTACCGTATGGCCCACCATAATTACCCCCA...</td>\n",
       "      <td>4</td>\n",
       "      <td>[atgccc, tgcccc, gcccca, ccccaa, cccaac, ccaac...</td>\n",
       "    </tr>\n",
       "    <tr>\n",
       "      <th>1</th>\n",
       "      <td>ATGAACGAAAATCTGTTCGCTTCATTCATTGCCCCCACAATCCTAG...</td>\n",
       "      <td>4</td>\n",
       "      <td>[atgaac, tgaacg, gaacga, aacgaa, acgaaa, cgaaa...</td>\n",
       "    </tr>\n",
       "    <tr>\n",
       "      <th>2</th>\n",
       "      <td>ATGTGTGGCATTTGGGCGCTGTTTGGCAGTGATGATTGCCTTTCTG...</td>\n",
       "      <td>3</td>\n",
       "      <td>[atgtgt, tgtgtg, gtgtgg, tgtggc, gtggca, tggca...</td>\n",
       "    </tr>\n",
       "    <tr>\n",
       "      <th>3</th>\n",
       "      <td>ATGTGTGGCATTTGGGCGCTGTTTGGCAGTGATGATTGCCTTTCTG...</td>\n",
       "      <td>3</td>\n",
       "      <td>[atgtgt, tgtgtg, gtgtgg, tgtggc, gtggca, tggca...</td>\n",
       "    </tr>\n",
       "    <tr>\n",
       "      <th>4</th>\n",
       "      <td>ATGCAACAGCATTTTGAATTTGAATACCAGACCAAAGTGGATGGTG...</td>\n",
       "      <td>3</td>\n",
       "      <td>[atgcaa, tgcaac, gcaaca, caacag, aacagc, acagc...</td>\n",
       "    </tr>\n",
       "  </tbody>\n",
       "</table>\n",
       "</div>"
      ],
      "text/plain": [
       "                                            sequence  class  \\\n",
       "0  ATGCCCCAACTAAATACTACCGTATGGCCCACCATAATTACCCCCA...      4   \n",
       "1  ATGAACGAAAATCTGTTCGCTTCATTCATTGCCCCCACAATCCTAG...      4   \n",
       "2  ATGTGTGGCATTTGGGCGCTGTTTGGCAGTGATGATTGCCTTTCTG...      3   \n",
       "3  ATGTGTGGCATTTGGGCGCTGTTTGGCAGTGATGATTGCCTTTCTG...      3   \n",
       "4  ATGCAACAGCATTTTGAATTTGAATACCAGACCAAAGTGGATGGTG...      3   \n",
       "\n",
       "                                             content  \n",
       "0  [atgccc, tgcccc, gcccca, ccccaa, cccaac, ccaac...  \n",
       "1  [atgaac, tgaacg, gaacga, aacgaa, acgaaa, cgaaa...  \n",
       "2  [atgtgt, tgtgtg, gtgtgg, tgtggc, gtggca, tggca...  \n",
       "3  [atgtgt, tgtgtg, gtgtgg, tgtggc, gtggca, tggca...  \n",
       "4  [atgcaa, tgcaac, gcaaca, caacag, aacagc, acagc...  "
      ]
     },
     "execution_count": 27,
     "metadata": {},
     "output_type": "execute_result"
    }
   ],
   "source": [
    "data.head()"
   ]
  },
  {
   "cell_type": "code",
   "execution_count": 28,
   "id": "8d916f29",
   "metadata": {},
   "outputs": [],
   "source": [
    "data['content'] = data['content'].map(lambda x: ' '.join(x))"
   ]
  },
  {
   "cell_type": "code",
   "execution_count": 30,
   "id": "ec8f837c",
   "metadata": {},
   "outputs": [
    {
     "data": {
      "text/html": [
       "<div>\n",
       "<style scoped>\n",
       "    .dataframe tbody tr th:only-of-type {\n",
       "        vertical-align: middle;\n",
       "    }\n",
       "\n",
       "    .dataframe tbody tr th {\n",
       "        vertical-align: top;\n",
       "    }\n",
       "\n",
       "    .dataframe thead th {\n",
       "        text-align: right;\n",
       "    }\n",
       "</style>\n",
       "<table border=\"1\" class=\"dataframe\">\n",
       "  <thead>\n",
       "    <tr style=\"text-align: right;\">\n",
       "      <th></th>\n",
       "      <th>sequence</th>\n",
       "      <th>class</th>\n",
       "      <th>content</th>\n",
       "    </tr>\n",
       "  </thead>\n",
       "  <tbody>\n",
       "    <tr>\n",
       "      <th>0</th>\n",
       "      <td>ATGCCCCAACTAAATACTACCGTATGGCCCACCATAATTACCCCCA...</td>\n",
       "      <td>4</td>\n",
       "      <td>atgccc tgcccc gcccca ccccaa cccaac ccaact caac...</td>\n",
       "    </tr>\n",
       "    <tr>\n",
       "      <th>1</th>\n",
       "      <td>ATGAACGAAAATCTGTTCGCTTCATTCATTGCCCCCACAATCCTAG...</td>\n",
       "      <td>4</td>\n",
       "      <td>atgaac tgaacg gaacga aacgaa acgaaa cgaaaa gaaa...</td>\n",
       "    </tr>\n",
       "    <tr>\n",
       "      <th>2</th>\n",
       "      <td>ATGTGTGGCATTTGGGCGCTGTTTGGCAGTGATGATTGCCTTTCTG...</td>\n",
       "      <td>3</td>\n",
       "      <td>atgtgt tgtgtg gtgtgg tgtggc gtggca tggcat ggca...</td>\n",
       "    </tr>\n",
       "    <tr>\n",
       "      <th>3</th>\n",
       "      <td>ATGTGTGGCATTTGGGCGCTGTTTGGCAGTGATGATTGCCTTTCTG...</td>\n",
       "      <td>3</td>\n",
       "      <td>atgtgt tgtgtg gtgtgg tgtggc gtggca tggcat ggca...</td>\n",
       "    </tr>\n",
       "    <tr>\n",
       "      <th>4</th>\n",
       "      <td>ATGCAACAGCATTTTGAATTTGAATACCAGACCAAAGTGGATGGTG...</td>\n",
       "      <td>3</td>\n",
       "      <td>atgcaa tgcaac gcaaca caacag aacagc acagca cagc...</td>\n",
       "    </tr>\n",
       "  </tbody>\n",
       "</table>\n",
       "</div>"
      ],
      "text/plain": [
       "                                            sequence  class  \\\n",
       "0  ATGCCCCAACTAAATACTACCGTATGGCCCACCATAATTACCCCCA...      4   \n",
       "1  ATGAACGAAAATCTGTTCGCTTCATTCATTGCCCCCACAATCCTAG...      4   \n",
       "2  ATGTGTGGCATTTGGGCGCTGTTTGGCAGTGATGATTGCCTTTCTG...      3   \n",
       "3  ATGTGTGGCATTTGGGCGCTGTTTGGCAGTGATGATTGCCTTTCTG...      3   \n",
       "4  ATGCAACAGCATTTTGAATTTGAATACCAGACCAAAGTGGATGGTG...      3   \n",
       "\n",
       "                                             content  \n",
       "0  atgccc tgcccc gcccca ccccaa cccaac ccaact caac...  \n",
       "1  atgaac tgaacg gaacga aacgaa acgaaa cgaaaa gaaa...  \n",
       "2  atgtgt tgtgtg gtgtgg tgtggc gtggca tggcat ggca...  \n",
       "3  atgtgt tgtgtg gtgtgg tgtggc gtggca tggcat ggca...  \n",
       "4  atgcaa tgcaac gcaaca caacag aacagc acagca cagc...  "
      ]
     },
     "execution_count": 30,
     "metadata": {},
     "output_type": "execute_result"
    }
   ],
   "source": [
    "data.head()"
   ]
  },
  {
   "cell_type": "code",
   "execution_count": 31,
   "id": "8a1ceb24",
   "metadata": {},
   "outputs": [],
   "source": [
    "X = data.iloc[:, -1]\n",
    "y = data.iloc[:, 1]"
   ]
  },
  {
   "cell_type": "code",
   "execution_count": 32,
   "id": "bcfd9496",
   "metadata": {},
   "outputs": [],
   "source": [
    "from sklearn.model_selection import train_test_split\n",
    "\n",
    "X_train, X_test, y_train, y_test = train_test_split(X, y, test_size = 0.2, random_state = 42)"
   ]
  },
  {
   "cell_type": "code",
   "execution_count": 57,
   "id": "4b0b1b25",
   "metadata": {},
   "outputs": [],
   "source": [
    "from tensorflow.keras.preprocessing.text import Tokenizer\n",
    "from tensorflow.keras.preprocessing.sequence import pad_sequences\n",
    "\n",
    "vocab_size = 1000\n",
    "max_length = 120\n",
    "padding_type = 'post'\n",
    "trunc_type = 'post'\n",
    "oov_tok = '<OOV>'\n",
    "\n",
    "tokenizer = Tokenizer(num_words = vocab_size, oov_token = oov_tok)\n",
    "tokenizer.fit_on_texts(X_train)\n",
    "word_index = tokenizer.word_index\n",
    "\n",
    "train_sequence = tokenizer.texts_to_sequences(X_train)\n",
    "train_padded = pad_sequences(train_sequence,\n",
    "                             maxlen = max_length,\n",
    "                             padding = padding_type,\n",
    "                             truncating = trunc_type)\n",
    "\n",
    "test_sequence = tokenizer.texts_to_sequences(X_test)\n",
    "valid_padded = pad_sequences(test_sequence,\n",
    "                             maxlen = max_length,\n",
    "                             padding = padding_type,\n",
    "                             truncating = trunc_type)"
   ]
  },
  {
   "cell_type": "code",
   "execution_count": 58,
   "id": "8a727777",
   "metadata": {},
   "outputs": [
    {
     "data": {
      "text/plain": [
       "array([[  1,   1, 973, ...,   1, 550, 793],\n",
       "       [  1,   1,   1, ...,   1, 748,   1],\n",
       "       [  1,   1,   1, ...,   1, 840, 889],\n",
       "       ...,\n",
       "       [ 97,  41, 190, ..., 465, 798,   1],\n",
       "       [584, 978, 475, ...,   1, 429,   1],\n",
       "       [113, 361, 307, ..., 121, 901, 493]], dtype=int32)"
      ]
     },
     "execution_count": 58,
     "metadata": {},
     "output_type": "execute_result"
    }
   ],
   "source": [
    "train_padded"
   ]
  },
  {
   "cell_type": "code",
   "execution_count": 59,
   "id": "90ed1709",
   "metadata": {
    "scrolled": true
   },
   "outputs": [
    {
     "name": "stdout",
     "output_type": "stream",
     "text": [
      "Epoch 1/100\n",
      "110/110 [==============================] - 1s 2ms/step - loss: 1.8940 - accuracy: 0.2851 - val_loss: 1.8387 - val_accuracy: 0.3025\n",
      "Epoch 2/100\n",
      "110/110 [==============================] - 0s 1ms/step - loss: 1.7975 - accuracy: 0.3076 - val_loss: 1.7919 - val_accuracy: 0.3025\n",
      "Epoch 3/100\n",
      "110/110 [==============================] - 0s 2ms/step - loss: 1.7449 - accuracy: 0.3385 - val_loss: 1.7301 - val_accuracy: 0.3470\n",
      "Epoch 4/100\n",
      "110/110 [==============================] - 0s 2ms/step - loss: 1.6641 - accuracy: 0.3596 - val_loss: 1.6563 - val_accuracy: 0.3642\n",
      "Epoch 5/100\n",
      "110/110 [==============================] - 0s 1ms/step - loss: 1.5798 - accuracy: 0.4061 - val_loss: 1.5841 - val_accuracy: 0.4292\n",
      "Epoch 6/100\n",
      "110/110 [==============================] - 0s 1ms/step - loss: 1.4931 - accuracy: 0.4529 - val_loss: 1.5129 - val_accuracy: 0.4475\n",
      "Epoch 7/100\n",
      "110/110 [==============================] - 0s 1ms/step - loss: 1.4124 - accuracy: 0.4854 - val_loss: 1.4493 - val_accuracy: 0.4589\n",
      "Epoch 8/100\n",
      "110/110 [==============================] - 0s 1ms/step - loss: 1.3266 - accuracy: 0.5183 - val_loss: 1.3811 - val_accuracy: 0.4897\n",
      "Epoch 9/100\n",
      "110/110 [==============================] - 0s 2ms/step - loss: 1.2427 - accuracy: 0.5574 - val_loss: 1.3113 - val_accuracy: 0.5240\n",
      "Epoch 10/100\n",
      "110/110 [==============================] - 0s 2ms/step - loss: 1.1586 - accuracy: 0.6102 - val_loss: 1.2468 - val_accuracy: 0.5685\n",
      "Epoch 11/100\n",
      "110/110 [==============================] - 0s 1ms/step - loss: 1.0733 - accuracy: 0.6553 - val_loss: 1.1964 - val_accuracy: 0.5947\n",
      "Epoch 12/100\n",
      "110/110 [==============================] - 0s 1ms/step - loss: 0.9954 - accuracy: 0.6829 - val_loss: 1.1552 - val_accuracy: 0.6050\n",
      "Epoch 13/100\n",
      "110/110 [==============================] - 0s 2ms/step - loss: 0.9263 - accuracy: 0.7123 - val_loss: 1.0973 - val_accuracy: 0.6438\n",
      "Epoch 14/100\n",
      "110/110 [==============================] - 0s 2ms/step - loss: 0.8737 - accuracy: 0.7269 - val_loss: 1.0670 - val_accuracy: 0.6598\n",
      "Epoch 15/100\n",
      "110/110 [==============================] - 0s 2ms/step - loss: 0.8104 - accuracy: 0.7549 - val_loss: 1.0465 - val_accuracy: 0.6747\n",
      "Epoch 16/100\n",
      "110/110 [==============================] - 0s 2ms/step - loss: 0.7666 - accuracy: 0.7740 - val_loss: 1.0144 - val_accuracy: 0.6941\n",
      "Epoch 17/100\n",
      "110/110 [==============================] - 0s 1ms/step - loss: 0.7278 - accuracy: 0.7842 - val_loss: 0.9992 - val_accuracy: 0.6952\n",
      "Epoch 18/100\n",
      "110/110 [==============================] - 0s 1ms/step - loss: 0.6922 - accuracy: 0.7920 - val_loss: 0.9727 - val_accuracy: 0.7112\n",
      "Epoch 19/100\n",
      "110/110 [==============================] - 0s 1ms/step - loss: 0.6562 - accuracy: 0.8042 - val_loss: 0.9607 - val_accuracy: 0.7180\n",
      "Epoch 20/100\n",
      "110/110 [==============================] - 0s 2ms/step - loss: 0.6267 - accuracy: 0.8122 - val_loss: 0.9582 - val_accuracy: 0.7192\n",
      "Epoch 21/100\n",
      "110/110 [==============================] - 0s 2ms/step - loss: 0.5988 - accuracy: 0.8262 - val_loss: 0.9461 - val_accuracy: 0.7283\n",
      "Epoch 22/100\n",
      "110/110 [==============================] - 0s 2ms/step - loss: 0.5696 - accuracy: 0.8322 - val_loss: 0.9376 - val_accuracy: 0.7386\n",
      "Epoch 23/100\n",
      "110/110 [==============================] - 0s 2ms/step - loss: 0.5436 - accuracy: 0.8459 - val_loss: 0.9267 - val_accuracy: 0.7363\n",
      "Epoch 24/100\n",
      "110/110 [==============================] - 0s 1ms/step - loss: 0.5221 - accuracy: 0.8459 - val_loss: 0.9243 - val_accuracy: 0.7432\n",
      "Epoch 25/100\n",
      "110/110 [==============================] - 0s 1ms/step - loss: 0.4955 - accuracy: 0.8630 - val_loss: 0.9150 - val_accuracy: 0.7443\n",
      "Epoch 26/100\n",
      "110/110 [==============================] - 0s 2ms/step - loss: 0.4796 - accuracy: 0.8630 - val_loss: 0.9108 - val_accuracy: 0.7420\n",
      "Epoch 27/100\n",
      "110/110 [==============================] - 0s 1ms/step - loss: 0.4592 - accuracy: 0.8687 - val_loss: 0.9125 - val_accuracy: 0.7500\n",
      "Epoch 28/100\n",
      "110/110 [==============================] - 0s 1ms/step - loss: 0.4440 - accuracy: 0.8770 - val_loss: 0.9117 - val_accuracy: 0.7523\n",
      "Epoch 29/100\n",
      "110/110 [==============================] - 0s 1ms/step - loss: 0.4223 - accuracy: 0.8856 - val_loss: 0.9115 - val_accuracy: 0.7557\n",
      "Epoch 30/100\n",
      "110/110 [==============================] - 0s 1ms/step - loss: 0.3994 - accuracy: 0.8893 - val_loss: 0.9121 - val_accuracy: 0.7500\n",
      "Epoch 31/100\n",
      "110/110 [==============================] - 0s 1ms/step - loss: 0.3814 - accuracy: 0.8973 - val_loss: 0.9202 - val_accuracy: 0.7568\n",
      "Epoch 32/100\n",
      "110/110 [==============================] - 0s 1ms/step - loss: 0.3727 - accuracy: 0.9004 - val_loss: 0.9133 - val_accuracy: 0.7614\n",
      "Epoch 33/100\n",
      "110/110 [==============================] - 0s 1ms/step - loss: 0.3532 - accuracy: 0.9101 - val_loss: 0.9195 - val_accuracy: 0.7580\n",
      "Epoch 34/100\n",
      "110/110 [==============================] - 0s 1ms/step - loss: 0.3396 - accuracy: 0.9118 - val_loss: 0.9278 - val_accuracy: 0.7637\n",
      "Epoch 35/100\n",
      "110/110 [==============================] - 0s 1ms/step - loss: 0.3273 - accuracy: 0.9135 - val_loss: 0.9291 - val_accuracy: 0.7683\n",
      "Epoch 36/100\n",
      "110/110 [==============================] - 0s 1ms/step - loss: 0.3161 - accuracy: 0.9235 - val_loss: 0.9306 - val_accuracy: 0.7683\n",
      "Epoch 37/100\n",
      "110/110 [==============================] - 0s 2ms/step - loss: 0.3052 - accuracy: 0.9198 - val_loss: 0.9329 - val_accuracy: 0.7751\n",
      "Epoch 38/100\n",
      "110/110 [==============================] - 0s 1ms/step - loss: 0.2880 - accuracy: 0.9272 - val_loss: 0.9416 - val_accuracy: 0.7728\n",
      "Epoch 39/100\n",
      "110/110 [==============================] - 0s 1ms/step - loss: 0.2752 - accuracy: 0.9304 - val_loss: 0.9443 - val_accuracy: 0.7831\n",
      "Epoch 40/100\n",
      "110/110 [==============================] - 0s 1ms/step - loss: 0.2651 - accuracy: 0.9324 - val_loss: 0.9568 - val_accuracy: 0.7774\n",
      "Epoch 41/100\n",
      "110/110 [==============================] - 0s 2ms/step - loss: 0.2534 - accuracy: 0.9372 - val_loss: 0.9644 - val_accuracy: 0.7763\n",
      "Epoch 42/100\n",
      "110/110 [==============================] - 0s 1ms/step - loss: 0.2460 - accuracy: 0.9421 - val_loss: 0.9661 - val_accuracy: 0.7888\n",
      "Epoch 43/100\n",
      "110/110 [==============================] - 0s 1ms/step - loss: 0.2345 - accuracy: 0.9478 - val_loss: 0.9729 - val_accuracy: 0.7900\n",
      "Epoch 44/100\n",
      "110/110 [==============================] - 0s 1ms/step - loss: 0.2212 - accuracy: 0.9478 - val_loss: 0.9841 - val_accuracy: 0.7968\n",
      "Epoch 45/100\n",
      "110/110 [==============================] - 0s 1ms/step - loss: 0.2119 - accuracy: 0.9503 - val_loss: 0.9874 - val_accuracy: 0.7922\n",
      "Epoch 46/100\n",
      "110/110 [==============================] - 0s 1ms/step - loss: 0.2051 - accuracy: 0.9543 - val_loss: 1.0007 - val_accuracy: 0.8014\n",
      "Epoch 47/100\n",
      "110/110 [==============================] - 0s 1ms/step - loss: 0.1947 - accuracy: 0.9552 - val_loss: 1.0113 - val_accuracy: 0.7991\n",
      "Epoch 48/100\n",
      "110/110 [==============================] - 0s 1ms/step - loss: 0.1871 - accuracy: 0.9583 - val_loss: 1.0141 - val_accuracy: 0.8002\n",
      "Epoch 49/100\n",
      "110/110 [==============================] - 0s 1ms/step - loss: 0.1802 - accuracy: 0.9598 - val_loss: 1.0283 - val_accuracy: 0.8048\n",
      "Epoch 50/100\n",
      "110/110 [==============================] - 0s 1ms/step - loss: 0.1687 - accuracy: 0.9632 - val_loss: 1.0428 - val_accuracy: 0.8025\n",
      "Epoch 51/100\n",
      "110/110 [==============================] - 0s 1ms/step - loss: 0.1623 - accuracy: 0.9652 - val_loss: 1.0483 - val_accuracy: 0.7991\n",
      "Epoch 52/100\n",
      "110/110 [==============================] - 0s 1ms/step - loss: 0.1537 - accuracy: 0.9689 - val_loss: 1.0641 - val_accuracy: 0.8025\n",
      "Epoch 53/100\n",
      "110/110 [==============================] - 0s 1ms/step - loss: 0.1478 - accuracy: 0.9675 - val_loss: 1.0747 - val_accuracy: 0.8048\n",
      "Epoch 54/100\n",
      "110/110 [==============================] - 0s 1ms/step - loss: 0.1340 - accuracy: 0.9735 - val_loss: 1.0924 - val_accuracy: 0.8048\n",
      "Epoch 55/100\n",
      "110/110 [==============================] - 0s 1ms/step - loss: 0.1295 - accuracy: 0.9712 - val_loss: 1.1000 - val_accuracy: 0.8094\n",
      "Epoch 56/100\n",
      "110/110 [==============================] - 0s 1ms/step - loss: 0.1230 - accuracy: 0.9775 - val_loss: 1.1163 - val_accuracy: 0.8094\n",
      "Epoch 57/100\n",
      "110/110 [==============================] - 0s 1ms/step - loss: 0.1193 - accuracy: 0.9760 - val_loss: 1.1281 - val_accuracy: 0.8128\n"
     ]
    },
    {
     "name": "stdout",
     "output_type": "stream",
     "text": [
      "Epoch 58/100\n",
      "110/110 [==============================] - 0s 1ms/step - loss: 0.1142 - accuracy: 0.9780 - val_loss: 1.1514 - val_accuracy: 0.8071\n",
      "Epoch 59/100\n",
      "110/110 [==============================] - 0s 1ms/step - loss: 0.1075 - accuracy: 0.9797 - val_loss: 1.1631 - val_accuracy: 0.8128\n",
      "Epoch 60/100\n",
      "110/110 [==============================] - 0s 1ms/step - loss: 0.0992 - accuracy: 0.9840 - val_loss: 1.1731 - val_accuracy: 0.8128\n",
      "Epoch 61/100\n",
      "110/110 [==============================] - 0s 1ms/step - loss: 0.0916 - accuracy: 0.9866 - val_loss: 1.1859 - val_accuracy: 0.8151\n",
      "Epoch 62/100\n",
      "110/110 [==============================] - 0s 1ms/step - loss: 0.0937 - accuracy: 0.9852 - val_loss: 1.2020 - val_accuracy: 0.8116\n",
      "Epoch 63/100\n",
      "110/110 [==============================] - 0s 1ms/step - loss: 0.0830 - accuracy: 0.9854 - val_loss: 1.2201 - val_accuracy: 0.8151\n",
      "Epoch 64/100\n",
      "110/110 [==============================] - 0s 1ms/step - loss: 0.0842 - accuracy: 0.9846 - val_loss: 1.2393 - val_accuracy: 0.8128\n",
      "Epoch 65/100\n",
      "110/110 [==============================] - 0s 1ms/step - loss: 0.0810 - accuracy: 0.9843 - val_loss: 1.2584 - val_accuracy: 0.8082\n",
      "Epoch 66/100\n",
      "110/110 [==============================] - 0s 1ms/step - loss: 0.0725 - accuracy: 0.9894 - val_loss: 1.2721 - val_accuracy: 0.8105\n",
      "Epoch 67/100\n",
      "110/110 [==============================] - 0s 1ms/step - loss: 0.0688 - accuracy: 0.9903 - val_loss: 1.2876 - val_accuracy: 0.8128\n",
      "Epoch 68/100\n",
      "110/110 [==============================] - 0s 1ms/step - loss: 0.0726 - accuracy: 0.9880 - val_loss: 1.3009 - val_accuracy: 0.8139\n",
      "Epoch 69/100\n",
      "110/110 [==============================] - 0s 1ms/step - loss: 0.0730 - accuracy: 0.9863 - val_loss: 1.3298 - val_accuracy: 0.8139\n",
      "Epoch 70/100\n",
      "110/110 [==============================] - 0s 1ms/step - loss: 0.0639 - accuracy: 0.9897 - val_loss: 1.3357 - val_accuracy: 0.8174\n",
      "Epoch 71/100\n",
      "110/110 [==============================] - 0s 1ms/step - loss: 0.0575 - accuracy: 0.9940 - val_loss: 1.3525 - val_accuracy: 0.8162\n",
      "Epoch 72/100\n",
      "110/110 [==============================] - 0s 1ms/step - loss: 0.0582 - accuracy: 0.9914 - val_loss: 1.3688 - val_accuracy: 0.8174\n",
      "Epoch 73/100\n",
      "110/110 [==============================] - 0s 1ms/step - loss: 0.0518 - accuracy: 0.9932 - val_loss: 1.3855 - val_accuracy: 0.8174\n",
      "Epoch 74/100\n",
      "110/110 [==============================] - 0s 1ms/step - loss: 0.0528 - accuracy: 0.9914 - val_loss: 1.4053 - val_accuracy: 0.8196\n",
      "Epoch 75/100\n",
      "110/110 [==============================] - 0s 1ms/step - loss: 0.0480 - accuracy: 0.9937 - val_loss: 1.4144 - val_accuracy: 0.8196\n",
      "Epoch 76/100\n",
      "110/110 [==============================] - 0s 1ms/step - loss: 0.0467 - accuracy: 0.9943 - val_loss: 1.4339 - val_accuracy: 0.8174\n",
      "Epoch 77/100\n",
      "110/110 [==============================] - 0s 1ms/step - loss: 0.0469 - accuracy: 0.9934 - val_loss: 1.4498 - val_accuracy: 0.8185\n",
      "Epoch 78/100\n",
      "110/110 [==============================] - 0s 1ms/step - loss: 0.0431 - accuracy: 0.9940 - val_loss: 1.4859 - val_accuracy: 0.8116\n",
      "Epoch 79/100\n",
      "110/110 [==============================] - 0s 1ms/step - loss: 0.0407 - accuracy: 0.9934 - val_loss: 1.4804 - val_accuracy: 0.8185\n",
      "Epoch 80/100\n",
      "110/110 [==============================] - 0s 1ms/step - loss: 0.0387 - accuracy: 0.9951 - val_loss: 1.5039 - val_accuracy: 0.8162\n",
      "Epoch 81/100\n",
      "110/110 [==============================] - 0s 1ms/step - loss: 0.0376 - accuracy: 0.9943 - val_loss: 1.5176 - val_accuracy: 0.8174\n",
      "Epoch 82/100\n",
      "110/110 [==============================] - 0s 1ms/step - loss: 0.0371 - accuracy: 0.9951 - val_loss: 1.5344 - val_accuracy: 0.8162\n",
      "Epoch 83/100\n",
      "110/110 [==============================] - 0s 1ms/step - loss: 0.0348 - accuracy: 0.9949 - val_loss: 1.5499 - val_accuracy: 0.8185\n",
      "Epoch 84/100\n",
      "110/110 [==============================] - 0s 1ms/step - loss: 0.0319 - accuracy: 0.9966 - val_loss: 1.5670 - val_accuracy: 0.8128\n",
      "Epoch 85/100\n",
      "110/110 [==============================] - 0s 1ms/step - loss: 0.0314 - accuracy: 0.9943 - val_loss: 1.5837 - val_accuracy: 0.8185\n",
      "Epoch 86/100\n",
      "110/110 [==============================] - 0s 1ms/step - loss: 0.0336 - accuracy: 0.9943 - val_loss: 1.5917 - val_accuracy: 0.8185\n",
      "Epoch 87/100\n",
      "110/110 [==============================] - 0s 1ms/step - loss: 0.0280 - accuracy: 0.9957 - val_loss: 1.6199 - val_accuracy: 0.8185\n",
      "Epoch 88/100\n",
      "110/110 [==============================] - 0s 1ms/step - loss: 0.0295 - accuracy: 0.9951 - val_loss: 1.6355 - val_accuracy: 0.8162\n",
      "Epoch 89/100\n",
      "110/110 [==============================] - 0s 1ms/step - loss: 0.0277 - accuracy: 0.9957 - val_loss: 1.6498 - val_accuracy: 0.8174\n",
      "Epoch 90/100\n",
      "110/110 [==============================] - 0s 1ms/step - loss: 0.0287 - accuracy: 0.9949 - val_loss: 1.6563 - val_accuracy: 0.8185\n",
      "Epoch 91/100\n",
      "110/110 [==============================] - 0s 1ms/step - loss: 0.0247 - accuracy: 0.9969 - val_loss: 1.6731 - val_accuracy: 0.8231\n",
      "Epoch 92/100\n",
      "110/110 [==============================] - 0s 1ms/step - loss: 0.0240 - accuracy: 0.9971 - val_loss: 1.6915 - val_accuracy: 0.8231\n",
      "Epoch 93/100\n",
      "110/110 [==============================] - 0s 1ms/step - loss: 0.0279 - accuracy: 0.9949 - val_loss: 1.7034 - val_accuracy: 0.8231\n",
      "Epoch 94/100\n",
      "110/110 [==============================] - 0s 1ms/step - loss: 0.0218 - accuracy: 0.9969 - val_loss: 1.7223 - val_accuracy: 0.8185\n",
      "Epoch 95/100\n",
      "110/110 [==============================] - 0s 1ms/step - loss: 0.0241 - accuracy: 0.9963 - val_loss: 1.7180 - val_accuracy: 0.8219\n",
      "Epoch 96/100\n",
      "110/110 [==============================] - 0s 1ms/step - loss: 0.0218 - accuracy: 0.9971 - val_loss: 1.7215 - val_accuracy: 0.8185\n",
      "Epoch 97/100\n",
      "110/110 [==============================] - 0s 1ms/step - loss: 0.0207 - accuracy: 0.9977 - val_loss: 1.7443 - val_accuracy: 0.8196\n",
      "Epoch 98/100\n",
      "110/110 [==============================] - 0s 1ms/step - loss: 0.0237 - accuracy: 0.9954 - val_loss: 1.7589 - val_accuracy: 0.8231\n",
      "Epoch 99/100\n",
      "110/110 [==============================] - 0s 1ms/step - loss: 0.0189 - accuracy: 0.9974 - val_loss: 1.7741 - val_accuracy: 0.8185\n",
      "Epoch 100/100\n",
      "110/110 [==============================] - 0s 1ms/step - loss: 0.0209 - accuracy: 0.9977 - val_loss: 1.7823 - val_accuracy: 0.8208\n"
     ]
    }
   ],
   "source": [
    "embedding_dim = 16\n",
    "model = tf.keras.models.Sequential([\n",
    "    tf.keras.layers.Embedding(vocab_size, embedding_dim, input_length = max_length),\n",
    "    tf.keras.layers.GlobalAveragePooling1D(),\n",
    "    tf.keras.layers.Flatten(),\n",
    "    tf.keras.layers.Dropout(0.1),\n",
    "    tf.keras.layers.Dense(32, activation = 'relu'),\n",
    "    tf.keras.layers.Dense(7, activation = 'softmax')\n",
    "])\n",
    "\n",
    "model.compile(loss = 'sparse_categorical_crossentropy',\n",
    "              optimizer = 'adam',\n",
    "              metrics = ['accuracy'])\n",
    "\n",
    "history = model.fit(train_padded, y_train,\n",
    "                    validation_data = (valid_padded, y_test),\n",
    "                    epochs = 100)"
   ]
  },
  {
   "cell_type": "code",
   "execution_count": 61,
   "id": "780477f2",
   "metadata": {
    "scrolled": true
   },
   "outputs": [
    {
     "name": "stdout",
     "output_type": "stream",
     "text": [
      "Epoch 1/100\n",
      "110/110 [==============================] - 1s 4ms/step - loss: 1.8295 - accuracy: 0.3076 - val_loss: 1.7954 - val_accuracy: 0.3025\n",
      "Epoch 2/100\n",
      "110/110 [==============================] - 0s 4ms/step - loss: 1.6922 - accuracy: 0.3479 - val_loss: 1.6377 - val_accuracy: 0.3562\n",
      "Epoch 3/100\n",
      "110/110 [==============================] - 0s 4ms/step - loss: 1.5259 - accuracy: 0.3964 - val_loss: 1.5526 - val_accuracy: 0.3813\n",
      "Epoch 4/100\n",
      "110/110 [==============================] - 0s 3ms/step - loss: 1.4299 - accuracy: 0.4247 - val_loss: 1.5140 - val_accuracy: 0.4326\n",
      "Epoch 5/100\n",
      "110/110 [==============================] - 0s 3ms/step - loss: 1.3643 - accuracy: 0.4820 - val_loss: 1.4815 - val_accuracy: 0.4692\n",
      "Epoch 6/100\n",
      "110/110 [==============================] - 0s 4ms/step - loss: 1.3110 - accuracy: 0.5123 - val_loss: 1.4565 - val_accuracy: 0.4795\n",
      "Epoch 7/100\n",
      "110/110 [==============================] - 0s 4ms/step - loss: 1.2623 - accuracy: 0.5380 - val_loss: 1.4308 - val_accuracy: 0.4897\n",
      "Epoch 8/100\n",
      "110/110 [==============================] - 0s 4ms/step - loss: 1.2214 - accuracy: 0.5479 - val_loss: 1.4083 - val_accuracy: 0.4852\n",
      "Epoch 9/100\n",
      "110/110 [==============================] - 0s 4ms/step - loss: 1.1706 - accuracy: 0.5733 - val_loss: 1.3725 - val_accuracy: 0.5217\n",
      "Epoch 10/100\n",
      "110/110 [==============================] - 0s 4ms/step - loss: 1.1262 - accuracy: 0.5959 - val_loss: 1.3582 - val_accuracy: 0.5228\n",
      "Epoch 11/100\n",
      "110/110 [==============================] - 0s 3ms/step - loss: 1.0802 - accuracy: 0.6122 - val_loss: 1.3386 - val_accuracy: 0.5331\n",
      "Epoch 12/100\n",
      "110/110 [==============================] - 0s 3ms/step - loss: 1.0442 - accuracy: 0.6207 - val_loss: 1.3018 - val_accuracy: 0.5616\n",
      "Epoch 13/100\n",
      "110/110 [==============================] - 0s 3ms/step - loss: 1.0168 - accuracy: 0.6361 - val_loss: 1.2729 - val_accuracy: 0.5685\n",
      "Epoch 14/100\n",
      "110/110 [==============================] - 0s 3ms/step - loss: 0.9738 - accuracy: 0.6598 - val_loss: 1.2447 - val_accuracy: 0.6016\n",
      "Epoch 15/100\n",
      "110/110 [==============================] - 0s 3ms/step - loss: 0.9513 - accuracy: 0.6641 - val_loss: 1.2949 - val_accuracy: 0.5731\n",
      "Epoch 16/100\n",
      "110/110 [==============================] - 0s 3ms/step - loss: 0.9201 - accuracy: 0.6761 - val_loss: 1.2366 - val_accuracy: 0.6107\n",
      "Epoch 17/100\n",
      "110/110 [==============================] - 0s 3ms/step - loss: 0.9049 - accuracy: 0.6886 - val_loss: 1.2124 - val_accuracy: 0.6313\n",
      "Epoch 18/100\n",
      "110/110 [==============================] - 0s 3ms/step - loss: 0.8715 - accuracy: 0.7018 - val_loss: 1.2119 - val_accuracy: 0.6564\n",
      "Epoch 19/100\n",
      "110/110 [==============================] - 0s 3ms/step - loss: 0.8581 - accuracy: 0.7163 - val_loss: 1.2035 - val_accuracy: 0.6404\n",
      "Epoch 20/100\n",
      "110/110 [==============================] - 0s 3ms/step - loss: 0.8481 - accuracy: 0.7143 - val_loss: 1.2014 - val_accuracy: 0.6598\n",
      "Epoch 21/100\n",
      "110/110 [==============================] - 0s 3ms/step - loss: 0.8293 - accuracy: 0.7232 - val_loss: 1.2102 - val_accuracy: 0.6712\n",
      "Epoch 22/100\n",
      "110/110 [==============================] - 0s 3ms/step - loss: 0.8044 - accuracy: 0.7414 - val_loss: 1.2169 - val_accuracy: 0.6667\n",
      "Epoch 23/100\n",
      "110/110 [==============================] - 0s 3ms/step - loss: 0.7973 - accuracy: 0.7432 - val_loss: 1.2003 - val_accuracy: 0.6769\n",
      "Epoch 24/100\n",
      "110/110 [==============================] - 0s 4ms/step - loss: 0.7829 - accuracy: 0.7443 - val_loss: 1.1922 - val_accuracy: 0.6826\n",
      "Epoch 25/100\n",
      "110/110 [==============================] - 0s 3ms/step - loss: 0.7685 - accuracy: 0.7546 - val_loss: 1.1893 - val_accuracy: 0.6918\n",
      "Epoch 26/100\n",
      "110/110 [==============================] - 0s 4ms/step - loss: 0.7372 - accuracy: 0.7634 - val_loss: 1.1967 - val_accuracy: 0.6861\n",
      "Epoch 27/100\n",
      "110/110 [==============================] - 0s 3ms/step - loss: 0.7285 - accuracy: 0.7711 - val_loss: 1.1854 - val_accuracy: 0.6918\n",
      "Epoch 28/100\n",
      "110/110 [==============================] - 0s 3ms/step - loss: 0.7129 - accuracy: 0.7728 - val_loss: 1.1970 - val_accuracy: 0.6941\n",
      "Epoch 29/100\n",
      "110/110 [==============================] - 0s 3ms/step - loss: 0.7095 - accuracy: 0.7705 - val_loss: 1.2106 - val_accuracy: 0.7009\n",
      "Epoch 30/100\n",
      "110/110 [==============================] - 0s 3ms/step - loss: 0.6869 - accuracy: 0.7842 - val_loss: 1.1994 - val_accuracy: 0.6941\n",
      "Epoch 31/100\n",
      "110/110 [==============================] - 0s 3ms/step - loss: 0.6779 - accuracy: 0.7800 - val_loss: 1.1979 - val_accuracy: 0.6952\n",
      "Epoch 32/100\n",
      "110/110 [==============================] - 0s 4ms/step - loss: 0.6648 - accuracy: 0.7862 - val_loss: 1.2079 - val_accuracy: 0.7112\n",
      "Epoch 33/100\n",
      "110/110 [==============================] - 0s 4ms/step - loss: 0.6547 - accuracy: 0.7934 - val_loss: 1.1882 - val_accuracy: 0.7135\n",
      "Epoch 34/100\n",
      "110/110 [==============================] - 1s 5ms/step - loss: 0.6398 - accuracy: 0.8025 - val_loss: 1.1724 - val_accuracy: 0.7146\n",
      "Epoch 35/100\n",
      "110/110 [==============================] - 0s 4ms/step - loss: 0.6252 - accuracy: 0.8042 - val_loss: 1.2183 - val_accuracy: 0.7158\n",
      "Epoch 36/100\n",
      "110/110 [==============================] - 0s 3ms/step - loss: 0.6235 - accuracy: 0.8039 - val_loss: 1.1632 - val_accuracy: 0.7272\n",
      "Epoch 37/100\n",
      "110/110 [==============================] - 0s 3ms/step - loss: 0.5899 - accuracy: 0.8116 - val_loss: 1.1770 - val_accuracy: 0.7192\n",
      "Epoch 38/100\n",
      "110/110 [==============================] - 0s 4ms/step - loss: 0.5898 - accuracy: 0.8193 - val_loss: 1.1817 - val_accuracy: 0.7283\n",
      "Epoch 39/100\n",
      "110/110 [==============================] - 0s 3ms/step - loss: 0.5629 - accuracy: 0.8316 - val_loss: 1.1472 - val_accuracy: 0.7363\n",
      "Epoch 40/100\n",
      "110/110 [==============================] - 0s 3ms/step - loss: 0.5575 - accuracy: 0.8288 - val_loss: 1.1680 - val_accuracy: 0.7295\n",
      "Epoch 41/100\n",
      "110/110 [==============================] - 0s 3ms/step - loss: 0.5425 - accuracy: 0.8319 - val_loss: 1.1557 - val_accuracy: 0.7477\n",
      "Epoch 42/100\n",
      "110/110 [==============================] - 0s 3ms/step - loss: 0.5356 - accuracy: 0.8399 - val_loss: 1.1527 - val_accuracy: 0.7466\n",
      "Epoch 43/100\n",
      "110/110 [==============================] - 0s 3ms/step - loss: 0.5111 - accuracy: 0.8479 - val_loss: 1.1995 - val_accuracy: 0.7295\n",
      "Epoch 44/100\n",
      "110/110 [==============================] - 0s 3ms/step - loss: 0.4993 - accuracy: 0.8450 - val_loss: 1.1853 - val_accuracy: 0.7443\n",
      "Epoch 45/100\n",
      "110/110 [==============================] - 0s 4ms/step - loss: 0.4961 - accuracy: 0.8465 - val_loss: 1.1338 - val_accuracy: 0.7580\n",
      "Epoch 46/100\n",
      "110/110 [==============================] - 0s 3ms/step - loss: 0.4779 - accuracy: 0.8536 - val_loss: 1.1632 - val_accuracy: 0.7557\n",
      "Epoch 47/100\n",
      "110/110 [==============================] - 0s 3ms/step - loss: 0.4626 - accuracy: 0.8604 - val_loss: 1.1562 - val_accuracy: 0.7591\n",
      "Epoch 48/100\n",
      "110/110 [==============================] - 0s 3ms/step - loss: 0.4518 - accuracy: 0.8619 - val_loss: 1.1650 - val_accuracy: 0.7557\n",
      "Epoch 49/100\n",
      "110/110 [==============================] - 0s 3ms/step - loss: 0.4498 - accuracy: 0.8573 - val_loss: 1.2320 - val_accuracy: 0.7420\n",
      "Epoch 50/100\n",
      "110/110 [==============================] - 0s 3ms/step - loss: 0.4559 - accuracy: 0.8582 - val_loss: 1.1564 - val_accuracy: 0.7511\n",
      "Epoch 51/100\n",
      "110/110 [==============================] - 0s 4ms/step - loss: 0.4354 - accuracy: 0.8610 - val_loss: 1.1474 - val_accuracy: 0.7580\n",
      "Epoch 52/100\n",
      "110/110 [==============================] - 0s 3ms/step - loss: 0.4048 - accuracy: 0.8767 - val_loss: 1.1585 - val_accuracy: 0.7591\n",
      "Epoch 53/100\n",
      "110/110 [==============================] - 0s 3ms/step - loss: 0.4141 - accuracy: 0.8713 - val_loss: 1.1579 - val_accuracy: 0.7660\n",
      "Epoch 54/100\n",
      "110/110 [==============================] - 0s 3ms/step - loss: 0.3949 - accuracy: 0.8724 - val_loss: 1.1627 - val_accuracy: 0.7648\n",
      "Epoch 55/100\n",
      "110/110 [==============================] - 0s 3ms/step - loss: 0.3856 - accuracy: 0.8841 - val_loss: 1.1703 - val_accuracy: 0.7614\n",
      "Epoch 56/100\n",
      "110/110 [==============================] - 0s 4ms/step - loss: 0.3765 - accuracy: 0.8804 - val_loss: 1.1641 - val_accuracy: 0.7591\n",
      "Epoch 57/100\n",
      "110/110 [==============================] - 0s 3ms/step - loss: 0.3744 - accuracy: 0.8838 - val_loss: 1.1782 - val_accuracy: 0.7637\n"
     ]
    },
    {
     "name": "stdout",
     "output_type": "stream",
     "text": [
      "Epoch 58/100\n",
      "110/110 [==============================] - 0s 3ms/step - loss: 0.3611 - accuracy: 0.8904 - val_loss: 1.1744 - val_accuracy: 0.7648\n",
      "Epoch 59/100\n",
      "110/110 [==============================] - 0s 3ms/step - loss: 0.3599 - accuracy: 0.8870 - val_loss: 1.1706 - val_accuracy: 0.7648\n",
      "Epoch 60/100\n",
      "110/110 [==============================] - 0s 3ms/step - loss: 0.3590 - accuracy: 0.8878 - val_loss: 1.1964 - val_accuracy: 0.7637\n",
      "Epoch 61/100\n",
      "110/110 [==============================] - 0s 3ms/step - loss: 0.3389 - accuracy: 0.8930 - val_loss: 1.1900 - val_accuracy: 0.7728\n",
      "Epoch 62/100\n",
      "110/110 [==============================] - 0s 3ms/step - loss: 0.3358 - accuracy: 0.8958 - val_loss: 1.1877 - val_accuracy: 0.7683\n",
      "Epoch 63/100\n",
      "110/110 [==============================] - 0s 3ms/step - loss: 0.3271 - accuracy: 0.9001 - val_loss: 1.1991 - val_accuracy: 0.7683\n",
      "Epoch 64/100\n",
      "110/110 [==============================] - 0s 3ms/step - loss: 0.3285 - accuracy: 0.8944 - val_loss: 1.2071 - val_accuracy: 0.7717\n",
      "Epoch 65/100\n",
      "110/110 [==============================] - 0s 3ms/step - loss: 0.3043 - accuracy: 0.9070 - val_loss: 1.2137 - val_accuracy: 0.7751\n",
      "Epoch 66/100\n",
      "110/110 [==============================] - 0s 3ms/step - loss: 0.3099 - accuracy: 0.9047 - val_loss: 1.2297 - val_accuracy: 0.7705\n",
      "Epoch 67/100\n",
      "110/110 [==============================] - 0s 3ms/step - loss: 0.3030 - accuracy: 0.9064 - val_loss: 1.2520 - val_accuracy: 0.7705\n",
      "Epoch 68/100\n",
      "110/110 [==============================] - 0s 3ms/step - loss: 0.3098 - accuracy: 0.9024 - val_loss: 1.2524 - val_accuracy: 0.7637\n",
      "Epoch 69/100\n",
      "110/110 [==============================] - 0s 3ms/step - loss: 0.2732 - accuracy: 0.9135 - val_loss: 1.2402 - val_accuracy: 0.7637\n",
      "Epoch 70/100\n",
      "110/110 [==============================] - 0s 3ms/step - loss: 0.2948 - accuracy: 0.9101 - val_loss: 1.2399 - val_accuracy: 0.7694\n",
      "Epoch 71/100\n",
      "110/110 [==============================] - 0s 3ms/step - loss: 0.2820 - accuracy: 0.9132 - val_loss: 1.2382 - val_accuracy: 0.7740\n",
      "Epoch 72/100\n",
      "110/110 [==============================] - 0s 3ms/step - loss: 0.2773 - accuracy: 0.9144 - val_loss: 1.2518 - val_accuracy: 0.7740\n",
      "Epoch 73/100\n",
      "110/110 [==============================] - 0s 3ms/step - loss: 0.2710 - accuracy: 0.9178 - val_loss: 1.2639 - val_accuracy: 0.7728\n",
      "Epoch 74/100\n",
      "110/110 [==============================] - 0s 3ms/step - loss: 0.2607 - accuracy: 0.9144 - val_loss: 1.2643 - val_accuracy: 0.7763\n",
      "Epoch 75/100\n",
      "110/110 [==============================] - 0s 3ms/step - loss: 0.2598 - accuracy: 0.9238 - val_loss: 1.2585 - val_accuracy: 0.7785\n",
      "Epoch 76/100\n",
      "110/110 [==============================] - 0s 3ms/step - loss: 0.2457 - accuracy: 0.9267 - val_loss: 1.2899 - val_accuracy: 0.7763\n",
      "Epoch 77/100\n",
      "110/110 [==============================] - 0s 3ms/step - loss: 0.2392 - accuracy: 0.9218 - val_loss: 1.3106 - val_accuracy: 0.7763\n",
      "Epoch 78/100\n",
      "110/110 [==============================] - 0s 3ms/step - loss: 0.2252 - accuracy: 0.9247 - val_loss: 1.3171 - val_accuracy: 0.7785\n",
      "Epoch 79/100\n",
      "110/110 [==============================] - 0s 3ms/step - loss: 0.2375 - accuracy: 0.9275 - val_loss: 1.3347 - val_accuracy: 0.7797\n",
      "Epoch 80/100\n",
      "110/110 [==============================] - 0s 3ms/step - loss: 0.2182 - accuracy: 0.9384 - val_loss: 1.3367 - val_accuracy: 0.7785\n",
      "Epoch 81/100\n",
      "110/110 [==============================] - 0s 3ms/step - loss: 0.2201 - accuracy: 0.9318 - val_loss: 1.3324 - val_accuracy: 0.7865\n",
      "Epoch 82/100\n",
      "110/110 [==============================] - 0s 3ms/step - loss: 0.2119 - accuracy: 0.9346 - val_loss: 1.3469 - val_accuracy: 0.7888\n",
      "Epoch 83/100\n",
      "110/110 [==============================] - 0s 3ms/step - loss: 0.2154 - accuracy: 0.9372 - val_loss: 1.3589 - val_accuracy: 0.7877\n",
      "Epoch 84/100\n",
      "110/110 [==============================] - 0s 3ms/step - loss: 0.2011 - accuracy: 0.9372 - val_loss: 1.3429 - val_accuracy: 0.7911\n",
      "Epoch 85/100\n",
      "110/110 [==============================] - 0s 3ms/step - loss: 0.1864 - accuracy: 0.9421 - val_loss: 1.3699 - val_accuracy: 0.7877\n",
      "Epoch 86/100\n",
      "110/110 [==============================] - 0s 3ms/step - loss: 0.2035 - accuracy: 0.9346 - val_loss: 1.3682 - val_accuracy: 0.7945\n",
      "Epoch 87/100\n",
      "110/110 [==============================] - 0s 3ms/step - loss: 0.1987 - accuracy: 0.9349 - val_loss: 1.3998 - val_accuracy: 0.7888\n",
      "Epoch 88/100\n",
      "110/110 [==============================] - 0s 3ms/step - loss: 0.1940 - accuracy: 0.9421 - val_loss: 1.3837 - val_accuracy: 0.7934\n",
      "Epoch 89/100\n",
      "110/110 [==============================] - 0s 3ms/step - loss: 0.1783 - accuracy: 0.9486 - val_loss: 1.3764 - val_accuracy: 0.7922\n",
      "Epoch 90/100\n",
      "110/110 [==============================] - 0s 3ms/step - loss: 0.1742 - accuracy: 0.9503 - val_loss: 1.3804 - val_accuracy: 0.7991\n",
      "Epoch 91/100\n",
      "110/110 [==============================] - 0s 4ms/step - loss: 0.1929 - accuracy: 0.9384 - val_loss: 1.3922 - val_accuracy: 0.8014\n",
      "Epoch 92/100\n",
      "110/110 [==============================] - 0s 4ms/step - loss: 0.1721 - accuracy: 0.9478 - val_loss: 1.3801 - val_accuracy: 0.7957\n",
      "Epoch 93/100\n",
      "110/110 [==============================] - 0s 4ms/step - loss: 0.1805 - accuracy: 0.9432 - val_loss: 1.4017 - val_accuracy: 0.7979\n",
      "Epoch 94/100\n",
      "110/110 [==============================] - 0s 4ms/step - loss: 0.1635 - accuracy: 0.9489 - val_loss: 1.4179 - val_accuracy: 0.7934\n",
      "Epoch 95/100\n",
      "110/110 [==============================] - 0s 3ms/step - loss: 0.1649 - accuracy: 0.9472 - val_loss: 1.4351 - val_accuracy: 0.7934\n",
      "Epoch 96/100\n",
      "110/110 [==============================] - 0s 3ms/step - loss: 0.1591 - accuracy: 0.9523 - val_loss: 1.4712 - val_accuracy: 0.8048\n",
      "Epoch 97/100\n",
      "110/110 [==============================] - 0s 3ms/step - loss: 0.1645 - accuracy: 0.9483 - val_loss: 1.4510 - val_accuracy: 0.8059\n",
      "Epoch 98/100\n",
      "110/110 [==============================] - 0s 4ms/step - loss: 0.1514 - accuracy: 0.9552 - val_loss: 1.4466 - val_accuracy: 0.8037\n",
      "Epoch 99/100\n",
      "110/110 [==============================] - 0s 3ms/step - loss: 0.1509 - accuracy: 0.9523 - val_loss: 1.4610 - val_accuracy: 0.8105\n",
      "Epoch 100/100\n",
      "110/110 [==============================] - 0s 4ms/step - loss: 0.1440 - accuracy: 0.9555 - val_loss: 1.4738 - val_accuracy: 0.8151\n"
     ]
    }
   ],
   "source": [
    "model = tf.keras.models.Sequential([\n",
    "    tf.keras.layers.Embedding(vocab_size, embedding_dim, input_length = max_length),\n",
    "    tf.keras.layers.Conv1D(64, 3, activation = 'relu'),\n",
    "    tf.keras.layers.GlobalAveragePooling1D(),\n",
    "    tf.keras.layers.Flatten(),\n",
    "    tf.keras.layers.Dropout(0.1),\n",
    "    tf.keras.layers.Dense(32, activation = 'relu'),\n",
    "    tf.keras.layers.Dense(7, activation = 'softmax')\n",
    "])\n",
    "\n",
    "model.compile(loss = 'sparse_categorical_crossentropy',\n",
    "              optimizer = 'adam',\n",
    "              metrics = ['accuracy'])\n",
    "\n",
    "history = model.fit(train_padded, y_train,\n",
    "                    validation_data = (valid_padded, y_test),\n",
    "                    epochs = 100)"
   ]
  },
  {
   "cell_type": "code",
   "execution_count": 63,
   "id": "bf7d9c94",
   "metadata": {
    "scrolled": true
   },
   "outputs": [
    {
     "name": "stdout",
     "output_type": "stream",
     "text": [
      "Epoch 1/100\n",
      "110/110 [==============================] - 6s 33ms/step - loss: 1.8458 - accuracy: 0.3062 - val_loss: 1.8055 - val_accuracy: 0.3025\n",
      "Epoch 2/100\n",
      "110/110 [==============================] - 3s 29ms/step - loss: 1.6709 - accuracy: 0.3499 - val_loss: 1.5513 - val_accuracy: 0.4007\n",
      "Epoch 3/100\n",
      "110/110 [==============================] - 3s 29ms/step - loss: 1.3775 - accuracy: 0.4829 - val_loss: 1.4784 - val_accuracy: 0.4269\n",
      "Epoch 4/100\n",
      "110/110 [==============================] - 3s 31ms/step - loss: 1.2242 - accuracy: 0.5462 - val_loss: 1.3475 - val_accuracy: 0.5285\n",
      "Epoch 5/100\n",
      "110/110 [==============================] - 3s 30ms/step - loss: 1.0407 - accuracy: 0.6561 - val_loss: 1.2821 - val_accuracy: 0.5890\n",
      "Epoch 6/100\n",
      "110/110 [==============================] - 3s 30ms/step - loss: 0.9131 - accuracy: 0.7123 - val_loss: 1.2005 - val_accuracy: 0.6404\n",
      "Epoch 7/100\n",
      "110/110 [==============================] - 3s 31ms/step - loss: 0.8064 - accuracy: 0.7500 - val_loss: 1.1640 - val_accuracy: 0.6598\n",
      "Epoch 8/100\n",
      "110/110 [==============================] - 4s 33ms/step - loss: 0.6928 - accuracy: 0.7957 - val_loss: 1.1853 - val_accuracy: 0.6598\n",
      "Epoch 9/100\n",
      "110/110 [==============================] - 4s 32ms/step - loss: 0.6208 - accuracy: 0.8196 - val_loss: 1.1483 - val_accuracy: 0.6941\n",
      "Epoch 10/100\n",
      "110/110 [==============================] - 3s 32ms/step - loss: 0.5562 - accuracy: 0.8368 - val_loss: 1.1659 - val_accuracy: 0.6815\n",
      "Epoch 11/100\n",
      "110/110 [==============================] - 4s 33ms/step - loss: 0.4726 - accuracy: 0.8659 - val_loss: 1.1231 - val_accuracy: 0.7249\n",
      "Epoch 12/100\n",
      "110/110 [==============================] - 4s 32ms/step - loss: 0.4364 - accuracy: 0.8767 - val_loss: 1.0684 - val_accuracy: 0.7226\n",
      "Epoch 13/100\n",
      "110/110 [==============================] - 4s 33ms/step - loss: 0.3720 - accuracy: 0.8927 - val_loss: 1.1052 - val_accuracy: 0.7260\n",
      "Epoch 14/100\n",
      "110/110 [==============================] - 4s 33ms/step - loss: 0.3241 - accuracy: 0.9064 - val_loss: 1.0681 - val_accuracy: 0.7454\n",
      "Epoch 15/100\n",
      "110/110 [==============================] - 4s 34ms/step - loss: 0.2874 - accuracy: 0.9155 - val_loss: 1.1426 - val_accuracy: 0.7420\n",
      "Epoch 16/100\n",
      "110/110 [==============================] - 4s 32ms/step - loss: 0.2542 - accuracy: 0.9244 - val_loss: 1.2060 - val_accuracy: 0.7386\n",
      "Epoch 17/100\n",
      "110/110 [==============================] - 4s 33ms/step - loss: 0.2540 - accuracy: 0.9221 - val_loss: 1.1065 - val_accuracy: 0.7443\n",
      "Epoch 18/100\n",
      "110/110 [==============================] - 4s 33ms/step - loss: 0.1995 - accuracy: 0.9395 - val_loss: 1.1618 - val_accuracy: 0.7534\n",
      "Epoch 19/100\n",
      "110/110 [==============================] - 4s 37ms/step - loss: 0.1537 - accuracy: 0.9529 - val_loss: 1.1418 - val_accuracy: 0.7705\n",
      "Epoch 20/100\n",
      "110/110 [==============================] - 5s 43ms/step - loss: 0.1512 - accuracy: 0.9586 - val_loss: 1.1955 - val_accuracy: 0.7546\n",
      "Epoch 21/100\n",
      "110/110 [==============================] - 4s 34ms/step - loss: 0.1183 - accuracy: 0.9666 - val_loss: 1.3249 - val_accuracy: 0.7626\n",
      "Epoch 22/100\n",
      "110/110 [==============================] - 4s 33ms/step - loss: 0.1095 - accuracy: 0.9692 - val_loss: 1.2557 - val_accuracy: 0.7683\n",
      "Epoch 23/100\n",
      "110/110 [==============================] - 4s 34ms/step - loss: 0.1103 - accuracy: 0.9686 - val_loss: 1.3422 - val_accuracy: 0.7705\n",
      "Epoch 24/100\n",
      "110/110 [==============================] - 4s 35ms/step - loss: 0.0919 - accuracy: 0.9732 - val_loss: 1.3924 - val_accuracy: 0.7763\n",
      "Epoch 25/100\n",
      "110/110 [==============================] - 4s 33ms/step - loss: 0.1061 - accuracy: 0.9706 - val_loss: 1.3667 - val_accuracy: 0.7728\n",
      "Epoch 26/100\n",
      "110/110 [==============================] - 4s 33ms/step - loss: 0.1218 - accuracy: 0.9629 - val_loss: 1.3761 - val_accuracy: 0.7637\n",
      "Epoch 27/100\n",
      "110/110 [==============================] - 4s 33ms/step - loss: 0.0935 - accuracy: 0.9746 - val_loss: 1.3449 - val_accuracy: 0.7603\n",
      "Epoch 28/100\n",
      "110/110 [==============================] - 4s 33ms/step - loss: 0.0820 - accuracy: 0.9775 - val_loss: 1.3504 - val_accuracy: 0.7797\n",
      "Epoch 29/100\n",
      "110/110 [==============================] - 4s 33ms/step - loss: 0.0467 - accuracy: 0.9889 - val_loss: 1.4682 - val_accuracy: 0.7831\n",
      "Epoch 30/100\n",
      "110/110 [==============================] - 4s 33ms/step - loss: 0.0390 - accuracy: 0.9909 - val_loss: 1.5847 - val_accuracy: 0.7671\n",
      "Epoch 31/100\n",
      "110/110 [==============================] - 4s 33ms/step - loss: 0.0663 - accuracy: 0.9843 - val_loss: 1.5016 - val_accuracy: 0.7831\n",
      "Epoch 32/100\n",
      "110/110 [==============================] - 4s 33ms/step - loss: 0.0295 - accuracy: 0.9937 - val_loss: 1.5314 - val_accuracy: 0.7854\n",
      "Epoch 33/100\n",
      "110/110 [==============================] - 4s 33ms/step - loss: 0.0234 - accuracy: 0.9949 - val_loss: 1.6121 - val_accuracy: 0.7854\n",
      "Epoch 34/100\n",
      "110/110 [==============================] - 4s 33ms/step - loss: 0.0225 - accuracy: 0.9954 - val_loss: 1.7062 - val_accuracy: 0.7774\n",
      "Epoch 35/100\n",
      "110/110 [==============================] - 4s 37ms/step - loss: 0.0176 - accuracy: 0.9969 - val_loss: 1.7148 - val_accuracy: 0.7808\n",
      "Epoch 36/100\n",
      "110/110 [==============================] - 4s 40ms/step - loss: 0.0178 - accuracy: 0.9963 - val_loss: 1.7400 - val_accuracy: 0.7774\n",
      "Epoch 37/100\n",
      "110/110 [==============================] - 4s 37ms/step - loss: 0.0156 - accuracy: 0.9969 - val_loss: 1.8410 - val_accuracy: 0.7785\n",
      "Epoch 38/100\n",
      "110/110 [==============================] - 4s 34ms/step - loss: 0.1048 - accuracy: 0.9683 - val_loss: 1.5769 - val_accuracy: 0.7694\n",
      "Epoch 39/100\n",
      "110/110 [==============================] - 4s 33ms/step - loss: 0.1005 - accuracy: 0.9723 - val_loss: 1.5498 - val_accuracy: 0.7842\n",
      "Epoch 40/100\n",
      "110/110 [==============================] - 4s 33ms/step - loss: 0.0294 - accuracy: 0.9940 - val_loss: 1.6298 - val_accuracy: 0.7877\n",
      "Epoch 41/100\n",
      "110/110 [==============================] - 4s 33ms/step - loss: 0.0170 - accuracy: 0.9971 - val_loss: 1.6778 - val_accuracy: 0.7888\n",
      "Epoch 42/100\n",
      "110/110 [==============================] - 4s 33ms/step - loss: 0.0129 - accuracy: 0.9980 - val_loss: 1.6759 - val_accuracy: 0.7900\n",
      "Epoch 43/100\n",
      "110/110 [==============================] - 4s 34ms/step - loss: 0.0130 - accuracy: 0.9971 - val_loss: 1.7246 - val_accuracy: 0.7957\n",
      "Epoch 44/100\n",
      "110/110 [==============================] - 4s 37ms/step - loss: 0.0327 - accuracy: 0.9912 - val_loss: 1.7441 - val_accuracy: 0.7854\n",
      "Epoch 45/100\n",
      "110/110 [==============================] - 4s 39ms/step - loss: 0.0416 - accuracy: 0.9874 - val_loss: 1.8008 - val_accuracy: 0.7900\n",
      "Epoch 46/100\n",
      "110/110 [==============================] - 5s 41ms/step - loss: 0.0220 - accuracy: 0.9937 - val_loss: 1.7591 - val_accuracy: 0.7900\n",
      "Epoch 47/100\n",
      "110/110 [==============================] - 5s 44ms/step - loss: 0.0379 - accuracy: 0.9892 - val_loss: 1.7574 - val_accuracy: 0.7854\n",
      "Epoch 48/100\n",
      "110/110 [==============================] - 4s 41ms/step - loss: 0.0335 - accuracy: 0.9909 - val_loss: 1.8689 - val_accuracy: 0.7842\n",
      "Epoch 49/100\n",
      "110/110 [==============================] - 5s 46ms/step - loss: 0.0392 - accuracy: 0.9877 - val_loss: 1.7535 - val_accuracy: 0.7728\n",
      "Epoch 50/100\n",
      "110/110 [==============================] - 5s 45ms/step - loss: 0.0384 - accuracy: 0.9900 - val_loss: 1.7052 - val_accuracy: 0.7842\n",
      "Epoch 51/100\n",
      "110/110 [==============================] - 5s 41ms/step - loss: 0.1209 - accuracy: 0.9626 - val_loss: 1.6937 - val_accuracy: 0.7763\n",
      "Epoch 52/100\n",
      "110/110 [==============================] - 5s 45ms/step - loss: 0.0340 - accuracy: 0.9909 - val_loss: 1.7669 - val_accuracy: 0.7751\n",
      "Epoch 53/100\n",
      "110/110 [==============================] - 5s 41ms/step - loss: 0.0190 - accuracy: 0.9951 - val_loss: 1.7954 - val_accuracy: 0.7820\n",
      "Epoch 54/100\n",
      "110/110 [==============================] - 5s 42ms/step - loss: 0.0076 - accuracy: 0.9986 - val_loss: 1.8303 - val_accuracy: 0.7865\n",
      "Epoch 55/100\n",
      "110/110 [==============================] - 4s 39ms/step - loss: 0.0051 - accuracy: 0.9994 - val_loss: 1.8744 - val_accuracy: 0.7842\n",
      "Epoch 56/100\n",
      "110/110 [==============================] - 4s 40ms/step - loss: 0.0044 - accuracy: 0.9994 - val_loss: 1.8854 - val_accuracy: 0.7911\n",
      "Epoch 57/100\n"
     ]
    },
    {
     "name": "stdout",
     "output_type": "stream",
     "text": [
      "110/110 [==============================] - 4s 36ms/step - loss: 0.0038 - accuracy: 0.9997 - val_loss: 1.9334 - val_accuracy: 0.7934\n",
      "Epoch 58/100\n",
      "110/110 [==============================] - 4s 38ms/step - loss: 0.0034 - accuracy: 0.9997 - val_loss: 1.9697 - val_accuracy: 0.7865\n",
      "Epoch 59/100\n",
      "110/110 [==============================] - 4s 40ms/step - loss: 0.0034 - accuracy: 0.9997 - val_loss: 1.9852 - val_accuracy: 0.7842\n",
      "Epoch 60/100\n",
      "110/110 [==============================] - 4s 41ms/step - loss: 0.0026 - accuracy: 0.9997 - val_loss: 2.0165 - val_accuracy: 0.7888\n",
      "Epoch 61/100\n",
      "110/110 [==============================] - 4s 38ms/step - loss: 0.0023 - accuracy: 0.9997 - val_loss: 2.0267 - val_accuracy: 0.7922\n",
      "Epoch 62/100\n",
      "110/110 [==============================] - 4s 41ms/step - loss: 0.0850 - accuracy: 0.9746 - val_loss: 1.7165 - val_accuracy: 0.7717\n",
      "Epoch 63/100\n",
      "110/110 [==============================] - 4s 34ms/step - loss: 0.0571 - accuracy: 0.9820 - val_loss: 1.8307 - val_accuracy: 0.7820\n",
      "Epoch 64/100\n",
      "110/110 [==============================] - 4s 35ms/step - loss: 0.0176 - accuracy: 0.9949 - val_loss: 1.8853 - val_accuracy: 0.7831\n",
      "Epoch 65/100\n",
      "110/110 [==============================] - 4s 35ms/step - loss: 0.0184 - accuracy: 0.9946 - val_loss: 1.8243 - val_accuracy: 0.7888\n",
      "Epoch 66/100\n",
      "110/110 [==============================] - 4s 36ms/step - loss: 0.0166 - accuracy: 0.9960 - val_loss: 1.8325 - val_accuracy: 0.7911\n",
      "Epoch 67/100\n",
      "110/110 [==============================] - 4s 35ms/step - loss: 0.0124 - accuracy: 0.9974 - val_loss: 1.8974 - val_accuracy: 0.7934\n",
      "Epoch 68/100\n",
      "110/110 [==============================] - 4s 34ms/step - loss: 0.0046 - accuracy: 0.9994 - val_loss: 1.9481 - val_accuracy: 0.7957\n",
      "Epoch 69/100\n",
      "110/110 [==============================] - 4s 33ms/step - loss: 0.0023 - accuracy: 0.9997 - val_loss: 1.9832 - val_accuracy: 0.7979\n",
      "Epoch 70/100\n",
      "110/110 [==============================] - 4s 33ms/step - loss: 0.0019 - accuracy: 0.9997 - val_loss: 2.0129 - val_accuracy: 0.7957\n",
      "Epoch 71/100\n",
      "110/110 [==============================] - 4s 32ms/step - loss: 0.0014 - accuracy: 1.0000 - val_loss: 2.0390 - val_accuracy: 0.7934\n",
      "Epoch 72/100\n",
      "110/110 [==============================] - 4s 37ms/step - loss: 0.0012 - accuracy: 1.0000 - val_loss: 2.0624 - val_accuracy: 0.7945\n",
      "Epoch 73/100\n",
      "110/110 [==============================] - 4s 33ms/step - loss: 0.0010 - accuracy: 1.0000 - val_loss: 2.0917 - val_accuracy: 0.7945\n",
      "Epoch 74/100\n",
      "110/110 [==============================] - 4s 32ms/step - loss: 8.9357e-04 - accuracy: 1.0000 - val_loss: 2.1100 - val_accuracy: 0.7968\n",
      "Epoch 75/100\n",
      "110/110 [==============================] - 4s 34ms/step - loss: 8.8826e-04 - accuracy: 1.0000 - val_loss: 2.1347 - val_accuracy: 0.7979\n",
      "Epoch 76/100\n",
      "110/110 [==============================] - 4s 39ms/step - loss: 7.0689e-04 - accuracy: 1.0000 - val_loss: 2.1535 - val_accuracy: 0.7979\n",
      "Epoch 77/100\n",
      "110/110 [==============================] - 4s 35ms/step - loss: 6.3916e-04 - accuracy: 1.0000 - val_loss: 2.1767 - val_accuracy: 0.7968\n",
      "Epoch 78/100\n",
      "110/110 [==============================] - 4s 36ms/step - loss: 5.7292e-04 - accuracy: 1.0000 - val_loss: 2.1928 - val_accuracy: 0.7979\n",
      "Epoch 79/100\n",
      "110/110 [==============================] - 4s 37ms/step - loss: 5.2001e-04 - accuracy: 1.0000 - val_loss: 2.2114 - val_accuracy: 0.7968\n",
      "Epoch 80/100\n",
      "110/110 [==============================] - 4s 36ms/step - loss: 4.8849e-04 - accuracy: 1.0000 - val_loss: 2.2356 - val_accuracy: 0.7968\n",
      "Epoch 81/100\n",
      "110/110 [==============================] - 4s 36ms/step - loss: 4.2275e-04 - accuracy: 1.0000 - val_loss: 2.2474 - val_accuracy: 0.7968\n",
      "Epoch 82/100\n",
      "110/110 [==============================] - 4s 37ms/step - loss: 3.9390e-04 - accuracy: 1.0000 - val_loss: 2.2679 - val_accuracy: 0.7991\n",
      "Epoch 83/100\n",
      "110/110 [==============================] - 4s 37ms/step - loss: 3.5819e-04 - accuracy: 1.0000 - val_loss: 2.2848 - val_accuracy: 0.7979\n",
      "Epoch 84/100\n",
      "110/110 [==============================] - 4s 36ms/step - loss: 3.3190e-04 - accuracy: 1.0000 - val_loss: 2.2993 - val_accuracy: 0.7991\n",
      "Epoch 85/100\n",
      "110/110 [==============================] - 4s 36ms/step - loss: 3.0201e-04 - accuracy: 1.0000 - val_loss: 2.3185 - val_accuracy: 0.7979\n",
      "Epoch 86/100\n",
      "110/110 [==============================] - 4s 34ms/step - loss: 2.7722e-04 - accuracy: 1.0000 - val_loss: 2.3365 - val_accuracy: 0.8002\n",
      "Epoch 87/100\n",
      "110/110 [==============================] - 4s 34ms/step - loss: 2.5815e-04 - accuracy: 1.0000 - val_loss: 2.3512 - val_accuracy: 0.8002\n",
      "Epoch 88/100\n",
      "110/110 [==============================] - 4s 35ms/step - loss: 2.3117e-04 - accuracy: 1.0000 - val_loss: 2.3632 - val_accuracy: 0.7979\n",
      "Epoch 89/100\n",
      "110/110 [==============================] - 4s 35ms/step - loss: 2.2080e-04 - accuracy: 1.0000 - val_loss: 2.3841 - val_accuracy: 0.7991\n",
      "Epoch 90/100\n",
      "110/110 [==============================] - 4s 36ms/step - loss: 1.9965e-04 - accuracy: 1.0000 - val_loss: 2.4037 - val_accuracy: 0.8002\n",
      "Epoch 91/100\n",
      "110/110 [==============================] - 4s 36ms/step - loss: 1.8468e-04 - accuracy: 1.0000 - val_loss: 2.4152 - val_accuracy: 0.8002\n",
      "Epoch 92/100\n",
      "110/110 [==============================] - 4s 35ms/step - loss: 1.7009e-04 - accuracy: 1.0000 - val_loss: 2.4263 - val_accuracy: 0.8002\n",
      "Epoch 93/100\n",
      "110/110 [==============================] - 4s 36ms/step - loss: 1.5921e-04 - accuracy: 1.0000 - val_loss: 2.4510 - val_accuracy: 0.7979\n",
      "Epoch 94/100\n",
      "110/110 [==============================] - 4s 36ms/step - loss: 1.5074e-04 - accuracy: 1.0000 - val_loss: 2.4621 - val_accuracy: 0.7968\n",
      "Epoch 95/100\n",
      "110/110 [==============================] - 4s 36ms/step - loss: 1.3795e-04 - accuracy: 1.0000 - val_loss: 2.4746 - val_accuracy: 0.7991\n",
      "Epoch 96/100\n",
      "110/110 [==============================] - 4s 36ms/step - loss: 1.2819e-04 - accuracy: 1.0000 - val_loss: 2.4881 - val_accuracy: 0.7979\n",
      "Epoch 97/100\n",
      "110/110 [==============================] - 4s 36ms/step - loss: 1.1923e-04 - accuracy: 1.0000 - val_loss: 2.5068 - val_accuracy: 0.7968\n",
      "Epoch 98/100\n",
      "110/110 [==============================] - 4s 36ms/step - loss: 1.1122e-04 - accuracy: 1.0000 - val_loss: 2.5196 - val_accuracy: 0.7979\n",
      "Epoch 99/100\n",
      "110/110 [==============================] - 4s 36ms/step - loss: 1.0331e-04 - accuracy: 1.0000 - val_loss: 2.5394 - val_accuracy: 0.7945\n",
      "Epoch 100/100\n",
      "110/110 [==============================] - 4s 35ms/step - loss: 9.6284e-05 - accuracy: 1.0000 - val_loss: 2.5522 - val_accuracy: 0.7968\n"
     ]
    }
   ],
   "source": [
    "model = tf.keras.models.Sequential([\n",
    "    tf.keras.layers.Embedding(vocab_size, embedding_dim, input_length = max_length),\n",
    "    tf.keras.layers.Bidirectional(tf.keras.layers.LSTM(32)),\n",
    "    tf.keras.layers.Dense(32, activation = 'relu'),\n",
    "    tf.keras.layers.Dense(7, activation = 'softmax')\n",
    "])\n",
    "\n",
    "model.compile(loss = 'sparse_categorical_crossentropy',\n",
    "              optimizer = 'adam',\n",
    "              metrics = ['accuracy'])\n",
    "\n",
    "history = model.fit(train_padded, y_train,\n",
    "                    validation_data = (valid_padded, y_test),\n",
    "                    epochs = 100)"
   ]
  },
  {
   "cell_type": "code",
   "execution_count": 67,
   "id": "7dcb69b8",
   "metadata": {
    "scrolled": true
   },
   "outputs": [
    {
     "name": "stdout",
     "output_type": "stream",
     "text": [
      "Epoch 1/100\n",
      "110/110 [==============================] - 1s 5ms/step - loss: 1.7638 - accuracy: 0.3276 - val_loss: 1.6779 - val_accuracy: 0.3573\n",
      "Epoch 2/100\n",
      "110/110 [==============================] - 0s 4ms/step - loss: 1.4894 - accuracy: 0.4549 - val_loss: 1.4265 - val_accuracy: 0.5103\n",
      "Epoch 3/100\n",
      "110/110 [==============================] - 1s 5ms/step - loss: 1.1823 - accuracy: 0.5999 - val_loss: 1.2319 - val_accuracy: 0.5479\n",
      "Epoch 4/100\n",
      "110/110 [==============================] - 1s 5ms/step - loss: 0.9232 - accuracy: 0.7015 - val_loss: 1.0761 - val_accuracy: 0.6416\n",
      "Epoch 5/100\n",
      "110/110 [==============================] - 1s 5ms/step - loss: 0.7084 - accuracy: 0.7911 - val_loss: 0.9529 - val_accuracy: 0.7032\n",
      "Epoch 6/100\n",
      "110/110 [==============================] - 1s 5ms/step - loss: 0.5490 - accuracy: 0.8422 - val_loss: 0.8897 - val_accuracy: 0.7329\n",
      "Epoch 7/100\n",
      "110/110 [==============================] - 1s 5ms/step - loss: 0.4319 - accuracy: 0.8813 - val_loss: 0.8535 - val_accuracy: 0.7511\n",
      "Epoch 8/100\n",
      "110/110 [==============================] - 1s 5ms/step - loss: 0.3321 - accuracy: 0.9127 - val_loss: 0.8279 - val_accuracy: 0.7671\n",
      "Epoch 9/100\n",
      "110/110 [==============================] - 1s 5ms/step - loss: 0.2491 - accuracy: 0.9364 - val_loss: 0.8733 - val_accuracy: 0.7683\n",
      "Epoch 10/100\n",
      "110/110 [==============================] - 1s 5ms/step - loss: 0.1955 - accuracy: 0.9475 - val_loss: 0.9198 - val_accuracy: 0.7865\n",
      "Epoch 11/100\n",
      "110/110 [==============================] - 1s 5ms/step - loss: 0.1390 - accuracy: 0.9678 - val_loss: 0.9324 - val_accuracy: 0.7763\n",
      "Epoch 12/100\n",
      "110/110 [==============================] - 1s 5ms/step - loss: 0.1027 - accuracy: 0.9795 - val_loss: 0.9428 - val_accuracy: 0.7808\n",
      "Epoch 13/100\n",
      "110/110 [==============================] - 1s 5ms/step - loss: 0.0726 - accuracy: 0.9863 - val_loss: 0.9943 - val_accuracy: 0.7877\n",
      "Epoch 14/100\n",
      "110/110 [==============================] - 1s 5ms/step - loss: 0.0520 - accuracy: 0.9912 - val_loss: 1.0243 - val_accuracy: 0.7854\n",
      "Epoch 15/100\n",
      "110/110 [==============================] - 1s 5ms/step - loss: 0.0360 - accuracy: 0.9951 - val_loss: 1.1436 - val_accuracy: 0.7763\n",
      "Epoch 16/100\n",
      "110/110 [==============================] - 1s 5ms/step - loss: 0.0255 - accuracy: 0.9969 - val_loss: 1.2261 - val_accuracy: 0.7854\n",
      "Epoch 17/100\n",
      "110/110 [==============================] - 1s 5ms/step - loss: 0.0182 - accuracy: 0.9977 - val_loss: 1.2609 - val_accuracy: 0.7820\n",
      "Epoch 18/100\n",
      "110/110 [==============================] - 1s 5ms/step - loss: 0.0140 - accuracy: 0.9989 - val_loss: 1.3131 - val_accuracy: 0.7785\n",
      "Epoch 19/100\n",
      "110/110 [==============================] - 1s 5ms/step - loss: 0.0104 - accuracy: 0.9986 - val_loss: 1.4386 - val_accuracy: 0.7842\n",
      "Epoch 20/100\n",
      "110/110 [==============================] - 1s 5ms/step - loss: 0.0087 - accuracy: 0.9991 - val_loss: 1.4337 - val_accuracy: 0.7945\n",
      "Epoch 21/100\n",
      "110/110 [==============================] - 1s 5ms/step - loss: 0.0067 - accuracy: 0.9991 - val_loss: 1.5756 - val_accuracy: 0.7865\n",
      "Epoch 22/100\n",
      "110/110 [==============================] - 1s 5ms/step - loss: 0.0052 - accuracy: 0.9989 - val_loss: 1.5554 - val_accuracy: 0.7797\n",
      "Epoch 23/100\n",
      "110/110 [==============================] - 1s 5ms/step - loss: 0.0044 - accuracy: 0.9991 - val_loss: 1.6127 - val_accuracy: 0.7842\n",
      "Epoch 24/100\n",
      "110/110 [==============================] - 1s 5ms/step - loss: 0.0037 - accuracy: 0.9994 - val_loss: 1.7256 - val_accuracy: 0.7877\n",
      "Epoch 25/100\n",
      "110/110 [==============================] - 1s 5ms/step - loss: 0.0042 - accuracy: 0.9994 - val_loss: 1.7774 - val_accuracy: 0.7877\n",
      "Epoch 26/100\n",
      "110/110 [==============================] - 1s 5ms/step - loss: 0.0031 - accuracy: 0.9989 - val_loss: 1.8415 - val_accuracy: 0.7911\n",
      "Epoch 27/100\n",
      "110/110 [==============================] - 1s 5ms/step - loss: 0.0033 - accuracy: 0.9989 - val_loss: 1.8738 - val_accuracy: 0.7888\n",
      "Epoch 28/100\n",
      "110/110 [==============================] - 1s 5ms/step - loss: 0.0024 - accuracy: 0.9994 - val_loss: 1.8341 - val_accuracy: 0.7865\n",
      "Epoch 29/100\n",
      "110/110 [==============================] - 1s 5ms/step - loss: 0.0019 - accuracy: 0.9994 - val_loss: 1.8745 - val_accuracy: 0.7842\n",
      "Epoch 30/100\n",
      "110/110 [==============================] - 1s 5ms/step - loss: 0.0023 - accuracy: 0.9994 - val_loss: 1.9530 - val_accuracy: 0.7877\n",
      "Epoch 31/100\n",
      "110/110 [==============================] - 1s 5ms/step - loss: 0.0018 - accuracy: 0.9997 - val_loss: 2.0094 - val_accuracy: 0.7842\n",
      "Epoch 32/100\n",
      "110/110 [==============================] - 1s 5ms/step - loss: 0.0023 - accuracy: 0.9994 - val_loss: 2.0260 - val_accuracy: 0.7911\n",
      "Epoch 33/100\n",
      "110/110 [==============================] - 1s 5ms/step - loss: 0.0016 - accuracy: 0.9994 - val_loss: 2.0679 - val_accuracy: 0.7945\n",
      "Epoch 34/100\n",
      "110/110 [==============================] - 1s 5ms/step - loss: 0.0011 - accuracy: 0.9997 - val_loss: 2.1373 - val_accuracy: 0.7922\n",
      "Epoch 35/100\n",
      "110/110 [==============================] - 1s 5ms/step - loss: 0.0018 - accuracy: 0.9991 - val_loss: 2.1523 - val_accuracy: 0.7900\n",
      "Epoch 36/100\n",
      "110/110 [==============================] - 1s 5ms/step - loss: 0.0014 - accuracy: 0.9994 - val_loss: 2.1991 - val_accuracy: 0.7842\n",
      "Epoch 37/100\n",
      "110/110 [==============================] - 1s 5ms/step - loss: 0.0015 - accuracy: 0.9994 - val_loss: 2.2674 - val_accuracy: 0.7922\n",
      "Epoch 38/100\n",
      "110/110 [==============================] - 1s 5ms/step - loss: 7.9768e-04 - accuracy: 0.9997 - val_loss: 2.3590 - val_accuracy: 0.7877\n",
      "Epoch 39/100\n",
      "110/110 [==============================] - 1s 5ms/step - loss: 0.0011 - accuracy: 0.9997 - val_loss: 2.2966 - val_accuracy: 0.7854\n",
      "Epoch 40/100\n",
      "110/110 [==============================] - 1s 5ms/step - loss: 9.4448e-04 - accuracy: 0.9994 - val_loss: 2.4208 - val_accuracy: 0.7763\n",
      "Epoch 41/100\n",
      "110/110 [==============================] - 1s 5ms/step - loss: 6.6649e-04 - accuracy: 1.0000 - val_loss: 2.3684 - val_accuracy: 0.7888\n",
      "Epoch 42/100\n",
      "110/110 [==============================] - 1s 5ms/step - loss: 9.9295e-04 - accuracy: 0.9997 - val_loss: 2.3921 - val_accuracy: 0.7922\n",
      "Epoch 43/100\n",
      "110/110 [==============================] - 0s 5ms/step - loss: 4.3653e-04 - accuracy: 1.0000 - val_loss: 2.4609 - val_accuracy: 0.7922\n",
      "Epoch 44/100\n",
      "110/110 [==============================] - 1s 5ms/step - loss: 7.8774e-04 - accuracy: 0.9997 - val_loss: 2.5632 - val_accuracy: 0.7934\n",
      "Epoch 45/100\n",
      "110/110 [==============================] - 1s 5ms/step - loss: 4.5380e-04 - accuracy: 1.0000 - val_loss: 2.5125 - val_accuracy: 0.7934\n",
      "Epoch 46/100\n",
      "110/110 [==============================] - 1s 5ms/step - loss: 5.3594e-04 - accuracy: 1.0000 - val_loss: 2.5859 - val_accuracy: 0.7945\n",
      "Epoch 47/100\n",
      "110/110 [==============================] - 1s 5ms/step - loss: 3.7799e-04 - accuracy: 1.0000 - val_loss: 2.5960 - val_accuracy: 0.7888\n",
      "Epoch 48/100\n",
      "110/110 [==============================] - 1s 5ms/step - loss: 5.0627e-04 - accuracy: 0.9997 - val_loss: 2.6597 - val_accuracy: 0.7922\n",
      "Epoch 49/100\n",
      "110/110 [==============================] - 0s 5ms/step - loss: 3.0762e-04 - accuracy: 1.0000 - val_loss: 2.6682 - val_accuracy: 0.7934\n",
      "Epoch 50/100\n",
      "110/110 [==============================] - 1s 5ms/step - loss: 9.5899e-04 - accuracy: 0.9994 - val_loss: 2.8172 - val_accuracy: 0.7831\n",
      "Epoch 51/100\n",
      "110/110 [==============================] - 1s 5ms/step - loss: 4.1395e-04 - accuracy: 1.0000 - val_loss: 2.7478 - val_accuracy: 0.7900\n",
      "Epoch 52/100\n",
      "110/110 [==============================] - 1s 5ms/step - loss: 4.9521e-04 - accuracy: 0.9997 - val_loss: 2.7694 - val_accuracy: 0.7900\n",
      "Epoch 53/100\n",
      "110/110 [==============================] - 0s 5ms/step - loss: 5.1716e-04 - accuracy: 0.9997 - val_loss: 2.8030 - val_accuracy: 0.7934\n",
      "Epoch 54/100\n",
      "110/110 [==============================] - 0s 5ms/step - loss: 0.0012 - accuracy: 0.9997 - val_loss: 2.8851 - val_accuracy: 0.7968\n",
      "Epoch 55/100\n",
      "110/110 [==============================] - 1s 5ms/step - loss: 8.6671e-05 - accuracy: 1.0000 - val_loss: 2.8914 - val_accuracy: 0.7900\n",
      "Epoch 56/100\n",
      "110/110 [==============================] - 1s 5ms/step - loss: 1.2444e-04 - accuracy: 1.0000 - val_loss: 2.8813 - val_accuracy: 0.7979\n",
      "Epoch 57/100\n"
     ]
    },
    {
     "name": "stdout",
     "output_type": "stream",
     "text": [
      "110/110 [==============================] - 0s 4ms/step - loss: 4.2549e-04 - accuracy: 0.9997 - val_loss: 2.8614 - val_accuracy: 0.7945\n",
      "Epoch 58/100\n",
      "110/110 [==============================] - 0s 4ms/step - loss: 4.6122e-05 - accuracy: 1.0000 - val_loss: 3.0410 - val_accuracy: 0.7968\n",
      "Epoch 59/100\n",
      "110/110 [==============================] - 0s 5ms/step - loss: 3.1031e-04 - accuracy: 0.9997 - val_loss: 3.1015 - val_accuracy: 0.7957\n",
      "Epoch 60/100\n",
      "110/110 [==============================] - 0s 4ms/step - loss: 7.4144e-04 - accuracy: 0.9997 - val_loss: 2.9227 - val_accuracy: 0.7911\n",
      "Epoch 61/100\n",
      "110/110 [==============================] - 0s 4ms/step - loss: 5.1580e-04 - accuracy: 0.9997 - val_loss: 2.9699 - val_accuracy: 0.7888\n",
      "Epoch 62/100\n",
      "110/110 [==============================] - 0s 4ms/step - loss: 5.7757e-04 - accuracy: 0.9997 - val_loss: 3.0406 - val_accuracy: 0.7842\n",
      "Epoch 63/100\n",
      "110/110 [==============================] - 0s 4ms/step - loss: 4.3388e-05 - accuracy: 1.0000 - val_loss: 3.0261 - val_accuracy: 0.7945\n",
      "Epoch 64/100\n",
      "110/110 [==============================] - 0s 4ms/step - loss: 8.5290e-05 - accuracy: 1.0000 - val_loss: 3.1217 - val_accuracy: 0.7934\n",
      "Epoch 65/100\n",
      "110/110 [==============================] - 0s 4ms/step - loss: 1.1003e-04 - accuracy: 1.0000 - val_loss: 3.1127 - val_accuracy: 0.7865\n",
      "Epoch 66/100\n",
      "110/110 [==============================] - 0s 5ms/step - loss: 8.4909e-05 - accuracy: 1.0000 - val_loss: 3.2141 - val_accuracy: 0.7934\n",
      "Epoch 67/100\n",
      "110/110 [==============================] - 0s 5ms/step - loss: 1.6608e-04 - accuracy: 1.0000 - val_loss: 3.1462 - val_accuracy: 0.7854\n",
      "Epoch 68/100\n",
      "110/110 [==============================] - 0s 4ms/step - loss: 9.7380e-05 - accuracy: 1.0000 - val_loss: 3.2733 - val_accuracy: 0.7900\n",
      "Epoch 69/100\n",
      "110/110 [==============================] - 0s 4ms/step - loss: 1.6642e-05 - accuracy: 1.0000 - val_loss: 3.1774 - val_accuracy: 0.7865\n",
      "Epoch 70/100\n",
      "110/110 [==============================] - 0s 4ms/step - loss: 2.3478e-05 - accuracy: 1.0000 - val_loss: 3.2819 - val_accuracy: 0.7922\n",
      "Epoch 71/100\n",
      "110/110 [==============================] - 0s 4ms/step - loss: 1.5817e-04 - accuracy: 1.0000 - val_loss: 3.2416 - val_accuracy: 0.7957\n",
      "Epoch 72/100\n",
      "110/110 [==============================] - 0s 4ms/step - loss: 3.2229e-05 - accuracy: 1.0000 - val_loss: 3.2715 - val_accuracy: 0.7957\n",
      "Epoch 73/100\n",
      "110/110 [==============================] - 0s 5ms/step - loss: 5.9340e-05 - accuracy: 1.0000 - val_loss: 3.2715 - val_accuracy: 0.7820\n",
      "Epoch 74/100\n",
      "110/110 [==============================] - 0s 4ms/step - loss: 5.4160e-04 - accuracy: 0.9997 - val_loss: 3.3705 - val_accuracy: 0.7922\n",
      "Epoch 75/100\n",
      "110/110 [==============================] - 0s 4ms/step - loss: 4.2817e-05 - accuracy: 1.0000 - val_loss: 3.3457 - val_accuracy: 0.7900\n",
      "Epoch 76/100\n",
      "110/110 [==============================] - 0s 4ms/step - loss: 4.7012e-05 - accuracy: 1.0000 - val_loss: 3.5964 - val_accuracy: 0.7991\n",
      "Epoch 77/100\n",
      "110/110 [==============================] - 0s 4ms/step - loss: 0.0013 - accuracy: 0.9997 - val_loss: 3.4964 - val_accuracy: 0.7968\n",
      "Epoch 78/100\n",
      "110/110 [==============================] - 0s 4ms/step - loss: 1.2990e-04 - accuracy: 1.0000 - val_loss: 3.4468 - val_accuracy: 0.7911\n",
      "Epoch 79/100\n",
      "110/110 [==============================] - 1s 5ms/step - loss: 1.2181e-05 - accuracy: 1.0000 - val_loss: 3.4023 - val_accuracy: 0.7877\n",
      "Epoch 80/100\n",
      "110/110 [==============================] - 0s 4ms/step - loss: 2.5231e-05 - accuracy: 1.0000 - val_loss: 3.4509 - val_accuracy: 0.7842\n",
      "Epoch 81/100\n",
      "110/110 [==============================] - 0s 4ms/step - loss: 2.3439e-05 - accuracy: 1.0000 - val_loss: 3.4958 - val_accuracy: 0.7900\n",
      "Epoch 82/100\n",
      "110/110 [==============================] - 0s 4ms/step - loss: 8.5561e-06 - accuracy: 1.0000 - val_loss: 3.4888 - val_accuracy: 0.7934\n",
      "Epoch 83/100\n",
      "110/110 [==============================] - 0s 4ms/step - loss: 5.7035e-04 - accuracy: 0.9997 - val_loss: 3.4870 - val_accuracy: 0.7922\n",
      "Epoch 84/100\n",
      "110/110 [==============================] - 0s 4ms/step - loss: 4.8034e-04 - accuracy: 0.9997 - val_loss: 3.6111 - val_accuracy: 0.7934\n",
      "Epoch 85/100\n",
      "110/110 [==============================] - 0s 4ms/step - loss: 5.2513e-04 - accuracy: 0.9997 - val_loss: 3.5583 - val_accuracy: 0.7922\n",
      "Epoch 86/100\n",
      "110/110 [==============================] - 0s 4ms/step - loss: 1.5803e-04 - accuracy: 1.0000 - val_loss: 3.7032 - val_accuracy: 0.7934\n",
      "Epoch 87/100\n",
      "110/110 [==============================] - 0s 4ms/step - loss: 8.6852e-06 - accuracy: 1.0000 - val_loss: 3.6996 - val_accuracy: 0.7888\n",
      "Epoch 88/100\n",
      "110/110 [==============================] - 0s 4ms/step - loss: 4.5265e-05 - accuracy: 1.0000 - val_loss: 3.5536 - val_accuracy: 0.7888\n",
      "Epoch 89/100\n",
      "110/110 [==============================] - 0s 4ms/step - loss: 1.2198e-05 - accuracy: 1.0000 - val_loss: 3.6015 - val_accuracy: 0.7934\n",
      "Epoch 90/100\n",
      "110/110 [==============================] - 0s 4ms/step - loss: 2.7883e-05 - accuracy: 1.0000 - val_loss: 3.7147 - val_accuracy: 0.7957\n",
      "Epoch 91/100\n",
      "110/110 [==============================] - 0s 4ms/step - loss: 7.8609e-06 - accuracy: 1.0000 - val_loss: 3.8952 - val_accuracy: 0.7922\n",
      "Epoch 92/100\n",
      "110/110 [==============================] - 0s 4ms/step - loss: 6.0289e-06 - accuracy: 1.0000 - val_loss: 3.8092 - val_accuracy: 0.7911\n",
      "Epoch 93/100\n",
      "110/110 [==============================] - 0s 4ms/step - loss: 6.5222e-06 - accuracy: 1.0000 - val_loss: 3.8604 - val_accuracy: 0.7934\n",
      "Epoch 94/100\n",
      "110/110 [==============================] - 0s 4ms/step - loss: 9.6189e-06 - accuracy: 1.0000 - val_loss: 3.7630 - val_accuracy: 0.7877\n",
      "Epoch 95/100\n",
      "110/110 [==============================] - 0s 4ms/step - loss: 5.2684e-04 - accuracy: 0.9997 - val_loss: 3.7818 - val_accuracy: 0.7865\n",
      "Epoch 96/100\n",
      "110/110 [==============================] - 0s 4ms/step - loss: 4.1613e-04 - accuracy: 0.9997 - val_loss: 3.8563 - val_accuracy: 0.7820\n",
      "Epoch 97/100\n",
      "110/110 [==============================] - 0s 4ms/step - loss: 1.2505e-06 - accuracy: 1.0000 - val_loss: 3.9047 - val_accuracy: 0.7911\n",
      "Epoch 98/100\n",
      "110/110 [==============================] - 0s 4ms/step - loss: 1.0471e-06 - accuracy: 1.0000 - val_loss: 3.8330 - val_accuracy: 0.7888\n",
      "Epoch 99/100\n",
      "110/110 [==============================] - 0s 4ms/step - loss: 2.2363e-05 - accuracy: 1.0000 - val_loss: 3.9245 - val_accuracy: 0.7957\n",
      "Epoch 100/100\n",
      "110/110 [==============================] - 0s 4ms/step - loss: 1.5062e-06 - accuracy: 1.0000 - val_loss: 3.9291 - val_accuracy: 0.7945\n"
     ]
    }
   ],
   "source": [
    "model = tf.keras.models.Sequential([\n",
    "    tf.keras.layers.Embedding(vocab_size, embedding_dim, input_length = max_length),\n",
    "    tf.keras.layers.Conv1D(16, 3, activation = 'relu'),\n",
    "    tf.keras.layers.MaxPooling1D(pool_size = 2, strides = 1),\n",
    "    tf.keras.layers.Flatten(),\n",
    "    tf.keras.layers.Dropout(0.1),\n",
    "    tf.keras.layers.Dense(16, activation = 'relu'),\n",
    "    tf.keras.layers.Dense(7, activation = 'softmax')\n",
    "])\n",
    "\n",
    "model.compile(loss = 'sparse_categorical_crossentropy',\n",
    "              optimizer = 'rmsprop',\n",
    "              metrics = ['accuracy'])\n",
    "\n",
    "history = model.fit(train_padded, y_train,\n",
    "                    validation_data = (valid_padded, y_test),\n",
    "                    epochs = 100)"
   ]
  },
  {
   "cell_type": "code",
   "execution_count": 68,
   "id": "4a37dba6",
   "metadata": {
    "scrolled": true
   },
   "outputs": [
    {
     "name": "stdout",
     "output_type": "stream",
     "text": [
      "Epoch 1/100\n",
      "110/110 [==============================] - 1s 2ms/step - loss: 1.8724 - accuracy: 0.3017 - val_loss: 1.8190 - val_accuracy: 0.3025\n",
      "Epoch 2/100\n",
      "110/110 [==============================] - 0s 1ms/step - loss: 1.7885 - accuracy: 0.3076 - val_loss: 1.7845 - val_accuracy: 0.3025\n",
      "Epoch 3/100\n",
      "110/110 [==============================] - 0s 1ms/step - loss: 1.7381 - accuracy: 0.3296 - val_loss: 1.7265 - val_accuracy: 0.3311\n",
      "Epoch 4/100\n",
      "110/110 [==============================] - 0s 1ms/step - loss: 1.6455 - accuracy: 0.3536 - val_loss: 1.6371 - val_accuracy: 0.3642\n",
      "Epoch 5/100\n",
      "110/110 [==============================] - 0s 1ms/step - loss: 1.5404 - accuracy: 0.4238 - val_loss: 1.5505 - val_accuracy: 0.4361\n",
      "Epoch 6/100\n",
      "110/110 [==============================] - 0s 2ms/step - loss: 1.4407 - accuracy: 0.4872 - val_loss: 1.4736 - val_accuracy: 0.4943\n",
      "Epoch 7/100\n",
      "110/110 [==============================] - 0s 1ms/step - loss: 1.3523 - accuracy: 0.5457 - val_loss: 1.4070 - val_accuracy: 0.5194\n",
      "Epoch 8/100\n",
      "110/110 [==============================] - 0s 2ms/step - loss: 1.2690 - accuracy: 0.5776 - val_loss: 1.3488 - val_accuracy: 0.5514\n",
      "Epoch 9/100\n",
      "110/110 [==============================] - 0s 2ms/step - loss: 1.1918 - accuracy: 0.6147 - val_loss: 1.2923 - val_accuracy: 0.5696\n",
      "Epoch 10/100\n",
      "110/110 [==============================] - 0s 2ms/step - loss: 1.1170 - accuracy: 0.6358 - val_loss: 1.2612 - val_accuracy: 0.5742\n",
      "Epoch 11/100\n",
      "110/110 [==============================] - 0s 2ms/step - loss: 1.0470 - accuracy: 0.6675 - val_loss: 1.1979 - val_accuracy: 0.6107\n",
      "Epoch 12/100\n",
      "110/110 [==============================] - 0s 2ms/step - loss: 0.9880 - accuracy: 0.6909 - val_loss: 1.1585 - val_accuracy: 0.6233\n",
      "Epoch 13/100\n",
      "110/110 [==============================] - 0s 2ms/step - loss: 0.9315 - accuracy: 0.7038 - val_loss: 1.1153 - val_accuracy: 0.6381\n",
      "Epoch 14/100\n",
      "110/110 [==============================] - 0s 2ms/step - loss: 0.8786 - accuracy: 0.7286 - val_loss: 1.0810 - val_accuracy: 0.6427\n",
      "Epoch 15/100\n",
      "110/110 [==============================] - 0s 1ms/step - loss: 0.8272 - accuracy: 0.7412 - val_loss: 1.0511 - val_accuracy: 0.6587\n",
      "Epoch 16/100\n",
      "110/110 [==============================] - 0s 2ms/step - loss: 0.7789 - accuracy: 0.7628 - val_loss: 1.0318 - val_accuracy: 0.6781\n",
      "Epoch 17/100\n",
      "110/110 [==============================] - 0s 1ms/step - loss: 0.7444 - accuracy: 0.7717 - val_loss: 1.0042 - val_accuracy: 0.6929\n",
      "Epoch 18/100\n",
      "110/110 [==============================] - 0s 2ms/step - loss: 0.7019 - accuracy: 0.7874 - val_loss: 0.9836 - val_accuracy: 0.6998\n",
      "Epoch 19/100\n",
      "110/110 [==============================] - 0s 2ms/step - loss: 0.6811 - accuracy: 0.7977 - val_loss: 0.9747 - val_accuracy: 0.7021\n",
      "Epoch 20/100\n",
      "110/110 [==============================] - 0s 2ms/step - loss: 0.6420 - accuracy: 0.8099 - val_loss: 0.9640 - val_accuracy: 0.7078\n",
      "Epoch 21/100\n",
      "110/110 [==============================] - 0s 2ms/step - loss: 0.6171 - accuracy: 0.8219 - val_loss: 0.9434 - val_accuracy: 0.7203\n",
      "Epoch 22/100\n",
      "110/110 [==============================] - 0s 1ms/step - loss: 0.5868 - accuracy: 0.8330 - val_loss: 0.9433 - val_accuracy: 0.7272\n",
      "Epoch 23/100\n",
      "110/110 [==============================] - 0s 1ms/step - loss: 0.5603 - accuracy: 0.8362 - val_loss: 0.9328 - val_accuracy: 0.7306\n",
      "Epoch 24/100\n",
      "110/110 [==============================] - 0s 1ms/step - loss: 0.5414 - accuracy: 0.8465 - val_loss: 0.9217 - val_accuracy: 0.7352\n",
      "Epoch 25/100\n",
      "110/110 [==============================] - 0s 1ms/step - loss: 0.5136 - accuracy: 0.8559 - val_loss: 0.9205 - val_accuracy: 0.7397\n",
      "Epoch 26/100\n",
      "110/110 [==============================] - 0s 1ms/step - loss: 0.4969 - accuracy: 0.8587 - val_loss: 0.9085 - val_accuracy: 0.7443\n",
      "Epoch 27/100\n",
      "110/110 [==============================] - 0s 2ms/step - loss: 0.4712 - accuracy: 0.8716 - val_loss: 0.9091 - val_accuracy: 0.7511\n",
      "Epoch 28/100\n",
      "110/110 [==============================] - 0s 1ms/step - loss: 0.4549 - accuracy: 0.8713 - val_loss: 0.9065 - val_accuracy: 0.7557\n",
      "Epoch 29/100\n",
      "110/110 [==============================] - 0s 1ms/step - loss: 0.4326 - accuracy: 0.8804 - val_loss: 0.9179 - val_accuracy: 0.7603\n",
      "Epoch 30/100\n",
      "110/110 [==============================] - 0s 1ms/step - loss: 0.4176 - accuracy: 0.8841 - val_loss: 0.9136 - val_accuracy: 0.7671\n",
      "Epoch 31/100\n",
      "110/110 [==============================] - 0s 1ms/step - loss: 0.3989 - accuracy: 0.8887 - val_loss: 0.9105 - val_accuracy: 0.7671\n",
      "Epoch 32/100\n",
      "110/110 [==============================] - 0s 1ms/step - loss: 0.3835 - accuracy: 0.8981 - val_loss: 0.9130 - val_accuracy: 0.7637\n",
      "Epoch 33/100\n",
      "110/110 [==============================] - 0s 1ms/step - loss: 0.3703 - accuracy: 0.8993 - val_loss: 0.9158 - val_accuracy: 0.7671\n",
      "Epoch 34/100\n",
      "110/110 [==============================] - 0s 1ms/step - loss: 0.3586 - accuracy: 0.9035 - val_loss: 0.9229 - val_accuracy: 0.7671\n",
      "Epoch 35/100\n",
      "110/110 [==============================] - 0s 1ms/step - loss: 0.3429 - accuracy: 0.9095 - val_loss: 0.9185 - val_accuracy: 0.7694\n",
      "Epoch 36/100\n",
      "110/110 [==============================] - 0s 1ms/step - loss: 0.3300 - accuracy: 0.9152 - val_loss: 0.9392 - val_accuracy: 0.7717\n",
      "Epoch 37/100\n",
      "110/110 [==============================] - 0s 1ms/step - loss: 0.3174 - accuracy: 0.9195 - val_loss: 0.9459 - val_accuracy: 0.7683\n",
      "Epoch 38/100\n",
      "110/110 [==============================] - 0s 1ms/step - loss: 0.2997 - accuracy: 0.9209 - val_loss: 0.9514 - val_accuracy: 0.7763\n",
      "Epoch 39/100\n",
      "110/110 [==============================] - 0s 1ms/step - loss: 0.2897 - accuracy: 0.9227 - val_loss: 0.9468 - val_accuracy: 0.7763\n",
      "Epoch 40/100\n",
      "110/110 [==============================] - 0s 1ms/step - loss: 0.2787 - accuracy: 0.9267 - val_loss: 0.9533 - val_accuracy: 0.7797\n",
      "Epoch 41/100\n",
      "110/110 [==============================] - 0s 1ms/step - loss: 0.2702 - accuracy: 0.9307 - val_loss: 0.9587 - val_accuracy: 0.7842\n",
      "Epoch 42/100\n",
      "110/110 [==============================] - 0s 2ms/step - loss: 0.2587 - accuracy: 0.9369 - val_loss: 0.9696 - val_accuracy: 0.7763\n",
      "Epoch 43/100\n",
      "110/110 [==============================] - 0s 1ms/step - loss: 0.2451 - accuracy: 0.9412 - val_loss: 0.9733 - val_accuracy: 0.7934\n",
      "Epoch 44/100\n",
      "110/110 [==============================] - 0s 1ms/step - loss: 0.2373 - accuracy: 0.9421 - val_loss: 0.9842 - val_accuracy: 0.7911\n",
      "Epoch 45/100\n",
      "110/110 [==============================] - 0s 1ms/step - loss: 0.2315 - accuracy: 0.9429 - val_loss: 0.9874 - val_accuracy: 0.7945\n",
      "Epoch 46/100\n",
      "110/110 [==============================] - 0s 1ms/step - loss: 0.2172 - accuracy: 0.9498 - val_loss: 0.9987 - val_accuracy: 0.7945\n",
      "Epoch 47/100\n",
      "110/110 [==============================] - 0s 1ms/step - loss: 0.2092 - accuracy: 0.9503 - val_loss: 1.0077 - val_accuracy: 0.8014\n",
      "Epoch 48/100\n",
      "110/110 [==============================] - 0s 1ms/step - loss: 0.2014 - accuracy: 0.9549 - val_loss: 1.0159 - val_accuracy: 0.7968\n",
      "Epoch 49/100\n",
      "110/110 [==============================] - 0s 1ms/step - loss: 0.1942 - accuracy: 0.9543 - val_loss: 1.0353 - val_accuracy: 0.7991\n",
      "Epoch 50/100\n",
      "110/110 [==============================] - 0s 1ms/step - loss: 0.1812 - accuracy: 0.9606 - val_loss: 1.0386 - val_accuracy: 0.8071\n",
      "Epoch 51/100\n",
      "110/110 [==============================] - 0s 1ms/step - loss: 0.1750 - accuracy: 0.9606 - val_loss: 1.0478 - val_accuracy: 0.8059\n",
      "Epoch 52/100\n",
      "110/110 [==============================] - 0s 1ms/step - loss: 0.1671 - accuracy: 0.9609 - val_loss: 1.0585 - val_accuracy: 0.8037\n",
      "Epoch 53/100\n",
      "110/110 [==============================] - 0s 1ms/step - loss: 0.1608 - accuracy: 0.9658 - val_loss: 1.0882 - val_accuracy: 0.8002\n",
      "Epoch 54/100\n",
      "110/110 [==============================] - 0s 1ms/step - loss: 0.1503 - accuracy: 0.9658 - val_loss: 1.0938 - val_accuracy: 0.8014\n",
      "Epoch 55/100\n",
      "110/110 [==============================] - 0s 1ms/step - loss: 0.1468 - accuracy: 0.9709 - val_loss: 1.0990 - val_accuracy: 0.8105\n",
      "Epoch 56/100\n",
      "110/110 [==============================] - 0s 1ms/step - loss: 0.1394 - accuracy: 0.9729 - val_loss: 1.0982 - val_accuracy: 0.8048\n",
      "Epoch 57/100\n",
      "110/110 [==============================] - 0s 1ms/step - loss: 0.1329 - accuracy: 0.9737 - val_loss: 1.1159 - val_accuracy: 0.8105\n"
     ]
    },
    {
     "name": "stdout",
     "output_type": "stream",
     "text": [
      "Epoch 58/100\n",
      "110/110 [==============================] - 0s 1ms/step - loss: 0.1272 - accuracy: 0.9755 - val_loss: 1.1285 - val_accuracy: 0.8071\n",
      "Epoch 59/100\n",
      "110/110 [==============================] - 0s 2ms/step - loss: 0.1233 - accuracy: 0.9772 - val_loss: 1.1385 - val_accuracy: 0.8071\n",
      "Epoch 60/100\n",
      "110/110 [==============================] - 0s 1ms/step - loss: 0.1129 - accuracy: 0.9772 - val_loss: 1.1566 - val_accuracy: 0.8105\n",
      "Epoch 61/100\n",
      "110/110 [==============================] - 0s 1ms/step - loss: 0.1103 - accuracy: 0.9803 - val_loss: 1.1678 - val_accuracy: 0.8071\n",
      "Epoch 62/100\n",
      "110/110 [==============================] - 0s 1ms/step - loss: 0.1077 - accuracy: 0.9806 - val_loss: 1.1839 - val_accuracy: 0.8094\n",
      "Epoch 63/100\n",
      "110/110 [==============================] - 0s 1ms/step - loss: 0.0996 - accuracy: 0.9817 - val_loss: 1.1966 - val_accuracy: 0.8105\n",
      "Epoch 64/100\n",
      "110/110 [==============================] - 0s 1ms/step - loss: 0.0972 - accuracy: 0.9826 - val_loss: 1.2113 - val_accuracy: 0.8151\n",
      "Epoch 65/100\n",
      "110/110 [==============================] - 0s 1ms/step - loss: 0.0913 - accuracy: 0.9832 - val_loss: 1.2384 - val_accuracy: 0.8105\n",
      "Epoch 66/100\n",
      "110/110 [==============================] - 0s 1ms/step - loss: 0.0924 - accuracy: 0.9832 - val_loss: 1.2533 - val_accuracy: 0.8151\n",
      "Epoch 67/100\n",
      "110/110 [==============================] - 0s 1ms/step - loss: 0.0831 - accuracy: 0.9860 - val_loss: 1.2605 - val_accuracy: 0.8139\n",
      "Epoch 68/100\n",
      "110/110 [==============================] - 0s 1ms/step - loss: 0.0801 - accuracy: 0.9883 - val_loss: 1.2710 - val_accuracy: 0.8128\n",
      "Epoch 69/100\n",
      "110/110 [==============================] - 0s 2ms/step - loss: 0.0779 - accuracy: 0.9866 - val_loss: 1.2850 - val_accuracy: 0.8139\n",
      "Epoch 70/100\n",
      "110/110 [==============================] - 0s 1ms/step - loss: 0.0699 - accuracy: 0.9880 - val_loss: 1.3179 - val_accuracy: 0.8116\n",
      "Epoch 71/100\n",
      "110/110 [==============================] - 0s 1ms/step - loss: 0.0676 - accuracy: 0.9909 - val_loss: 1.3147 - val_accuracy: 0.8162\n",
      "Epoch 72/100\n",
      "110/110 [==============================] - 0s 1ms/step - loss: 0.0645 - accuracy: 0.9909 - val_loss: 1.3331 - val_accuracy: 0.8139\n",
      "Epoch 73/100\n",
      "110/110 [==============================] - 0s 1ms/step - loss: 0.0648 - accuracy: 0.9897 - val_loss: 1.3416 - val_accuracy: 0.8151\n",
      "Epoch 74/100\n",
      "110/110 [==============================] - 0s 1ms/step - loss: 0.0626 - accuracy: 0.9894 - val_loss: 1.3529 - val_accuracy: 0.8162\n",
      "Epoch 75/100\n",
      "110/110 [==============================] - 0s 1ms/step - loss: 0.0601 - accuracy: 0.9889 - val_loss: 1.3701 - val_accuracy: 0.8151\n",
      "Epoch 76/100\n",
      "110/110 [==============================] - 0s 1ms/step - loss: 0.0491 - accuracy: 0.9946 - val_loss: 1.3924 - val_accuracy: 0.8185\n",
      "Epoch 77/100\n",
      "110/110 [==============================] - 0s 1ms/step - loss: 0.0498 - accuracy: 0.9912 - val_loss: 1.4127 - val_accuracy: 0.8174\n",
      "Epoch 78/100\n",
      "110/110 [==============================] - 0s 1ms/step - loss: 0.0538 - accuracy: 0.9903 - val_loss: 1.4311 - val_accuracy: 0.8151\n",
      "Epoch 79/100\n",
      "110/110 [==============================] - 0s 1ms/step - loss: 0.0511 - accuracy: 0.9894 - val_loss: 1.4357 - val_accuracy: 0.8139\n",
      "Epoch 80/100\n",
      "110/110 [==============================] - 0s 1ms/step - loss: 0.0468 - accuracy: 0.9923 - val_loss: 1.4493 - val_accuracy: 0.8128\n",
      "Epoch 81/100\n",
      "110/110 [==============================] - 0s 1ms/step - loss: 0.0488 - accuracy: 0.9909 - val_loss: 1.4704 - val_accuracy: 0.8162\n",
      "Epoch 82/100\n",
      "110/110 [==============================] - 0s 1ms/step - loss: 0.0430 - accuracy: 0.9934 - val_loss: 1.4780 - val_accuracy: 0.8174\n",
      "Epoch 83/100\n",
      "110/110 [==============================] - 0s 1ms/step - loss: 0.0419 - accuracy: 0.9937 - val_loss: 1.4967 - val_accuracy: 0.8196\n",
      "Epoch 84/100\n",
      "110/110 [==============================] - 0s 1ms/step - loss: 0.0382 - accuracy: 0.9954 - val_loss: 1.5044 - val_accuracy: 0.8208\n",
      "Epoch 85/100\n",
      "110/110 [==============================] - 0s 1ms/step - loss: 0.0371 - accuracy: 0.9966 - val_loss: 1.5272 - val_accuracy: 0.8174\n",
      "Epoch 86/100\n",
      "110/110 [==============================] - 0s 1ms/step - loss: 0.0368 - accuracy: 0.9960 - val_loss: 1.5491 - val_accuracy: 0.8196\n",
      "Epoch 87/100\n",
      "110/110 [==============================] - 0s 1ms/step - loss: 0.0371 - accuracy: 0.9937 - val_loss: 1.5510 - val_accuracy: 0.8185\n",
      "Epoch 88/100\n",
      "110/110 [==============================] - 0s 1ms/step - loss: 0.0318 - accuracy: 0.9966 - val_loss: 1.5721 - val_accuracy: 0.8196\n",
      "Epoch 89/100\n",
      "110/110 [==============================] - 0s 2ms/step - loss: 0.0301 - accuracy: 0.9963 - val_loss: 1.5929 - val_accuracy: 0.8185\n",
      "Epoch 90/100\n",
      "110/110 [==============================] - 0s 1ms/step - loss: 0.0314 - accuracy: 0.9966 - val_loss: 1.6016 - val_accuracy: 0.8174\n",
      "Epoch 91/100\n",
      "110/110 [==============================] - 0s 1ms/step - loss: 0.0354 - accuracy: 0.9934 - val_loss: 1.6329 - val_accuracy: 0.8208\n",
      "Epoch 92/100\n",
      "110/110 [==============================] - 0s 1ms/step - loss: 0.0267 - accuracy: 0.9974 - val_loss: 1.6251 - val_accuracy: 0.8162\n",
      "Epoch 93/100\n",
      "110/110 [==============================] - 0s 1ms/step - loss: 0.0248 - accuracy: 0.9974 - val_loss: 1.6329 - val_accuracy: 0.8208\n",
      "Epoch 94/100\n",
      "110/110 [==============================] - 0s 1ms/step - loss: 0.0285 - accuracy: 0.9951 - val_loss: 1.6556 - val_accuracy: 0.8196\n",
      "Epoch 95/100\n",
      "110/110 [==============================] - 0s 1ms/step - loss: 0.0252 - accuracy: 0.9969 - val_loss: 1.6663 - val_accuracy: 0.8185\n",
      "Epoch 96/100\n",
      "110/110 [==============================] - 0s 1ms/step - loss: 0.0242 - accuracy: 0.9980 - val_loss: 1.6888 - val_accuracy: 0.8174\n",
      "Epoch 97/100\n",
      "110/110 [==============================] - 0s 1ms/step - loss: 0.0257 - accuracy: 0.9954 - val_loss: 1.6882 - val_accuracy: 0.8231\n",
      "Epoch 98/100\n",
      "110/110 [==============================] - 0s 1ms/step - loss: 0.0246 - accuracy: 0.9974 - val_loss: 1.7198 - val_accuracy: 0.8185\n",
      "Epoch 99/100\n",
      "110/110 [==============================] - 0s 1ms/step - loss: 0.0260 - accuracy: 0.9943 - val_loss: 1.7228 - val_accuracy: 0.8162\n",
      "Epoch 100/100\n",
      "110/110 [==============================] - 0s 1ms/step - loss: 0.0221 - accuracy: 0.9969 - val_loss: 1.7309 - val_accuracy: 0.8219\n"
     ]
    }
   ],
   "source": [
    "model = tf.keras.models.Sequential([\n",
    "    tf.keras.layers.Embedding(vocab_size, embedding_dim, input_length = max_length),\n",
    "    tf.keras.layers.GlobalAveragePooling1D(),\n",
    "    tf.keras.layers.Flatten(),\n",
    "    tf.keras.layers.Dropout(0.1),\n",
    "    tf.keras.layers.Dense(32, activation = 'relu'),\n",
    "    tf.keras.layers.Dense(7, activation = 'softmax')\n",
    "])\n",
    "\n",
    "model.compile(loss = 'sparse_categorical_crossentropy',\n",
    "              optimizer = 'adam',\n",
    "              metrics = ['accuracy'])\n",
    "\n",
    "history = model.fit(train_padded, y_train,\n",
    "                    validation_data = (valid_padded, y_test),\n",
    "                    epochs = 100)"
   ]
  },
  {
   "cell_type": "code",
   "execution_count": 69,
   "id": "c003f964",
   "metadata": {},
   "outputs": [],
   "source": [
    "from sklearn.metrics import confusion_matrix, classification_report"
   ]
  },
  {
   "cell_type": "code",
   "execution_count": 71,
   "id": "17518d5d",
   "metadata": {},
   "outputs": [],
   "source": [
    "yhat = model.predict(valid_padded)\n",
    "yhat = np.round(yhat)"
   ]
  },
  {
   "cell_type": "code",
   "execution_count": 73,
   "id": "1ca3b235",
   "metadata": {},
   "outputs": [],
   "source": [
    "y_pred = [np.argmax(x) for x in yhat]"
   ]
  },
  {
   "cell_type": "code",
   "execution_count": 75,
   "id": "8f5bd5a1",
   "metadata": {},
   "outputs": [
    {
     "name": "stdout",
     "output_type": "stream",
     "text": [
      "              precision    recall  f1-score   support\n",
      "\n",
      "           0       0.74      0.74      0.74       102\n",
      "           1       0.84      0.79      0.82       106\n",
      "           2       0.78      0.83      0.81        78\n",
      "           3       0.83      0.84      0.83       125\n",
      "           4       0.82      0.83      0.82       149\n",
      "           5       0.93      0.76      0.84        51\n",
      "           6       0.83      0.86      0.84       265\n",
      "\n",
      "    accuracy                           0.82       876\n",
      "   macro avg       0.82      0.81      0.81       876\n",
      "weighted avg       0.82      0.82      0.82       876\n",
      "\n"
     ]
    }
   ],
   "source": [
    "print(classification_report(y_test, y_pred))"
   ]
  },
  {
   "cell_type": "code",
   "execution_count": 76,
   "id": "4b4eb669",
   "metadata": {},
   "outputs": [
    {
     "data": {
      "text/plain": [
       "6    1343\n",
       "4     711\n",
       "3     672\n",
       "1     534\n",
       "0     531\n",
       "2     349\n",
       "5     240\n",
       "Name: class, dtype: int64"
      ]
     },
     "execution_count": 76,
     "metadata": {},
     "output_type": "execute_result"
    }
   ],
   "source": [
    "data['class'].value_counts()"
   ]
  },
  {
   "cell_type": "code",
   "execution_count": 93,
   "id": "3f7b22ce",
   "metadata": {},
   "outputs": [],
   "source": [
    "from sklearn.feature_extraction.text import CountVectorizer\n",
    "\n",
    "cv = CountVectorizer(ngram_range = (4, 4))\n",
    "X_train_cv = cv.fit_transform(X_train)\n",
    "X_test_cv = cv.transform(X_test)"
   ]
  },
  {
   "cell_type": "code",
   "execution_count": 94,
   "id": "2c12e309",
   "metadata": {},
   "outputs": [
    {
     "data": {
      "text/plain": [
       "((3504, 230391), (876, 230391))"
      ]
     },
     "execution_count": 94,
     "metadata": {},
     "output_type": "execute_result"
    }
   ],
   "source": [
    "(X_train_cv.shape), (X_test_cv.shape)"
   ]
  },
  {
   "cell_type": "code",
   "execution_count": 95,
   "id": "75fd7846",
   "metadata": {},
   "outputs": [
    {
     "data": {
      "text/plain": [
       "MultinomialNB()"
      ]
     },
     "execution_count": 95,
     "metadata": {},
     "output_type": "execute_result"
    }
   ],
   "source": [
    "from sklearn.naive_bayes import MultinomialNB\n",
    "\n",
    "multi_nb = MultinomialNB()\n",
    "multi_nb.fit(X_train_cv, y_train)"
   ]
  },
  {
   "cell_type": "code",
   "execution_count": 96,
   "id": "db9135b0",
   "metadata": {},
   "outputs": [
    {
     "data": {
      "text/plain": [
       "0.9988584474885844"
      ]
     },
     "execution_count": 96,
     "metadata": {},
     "output_type": "execute_result"
    }
   ],
   "source": [
    "multi_nb.score(X_train_cv, y_train)"
   ]
  },
  {
   "cell_type": "code",
   "execution_count": 97,
   "id": "2daf7e3d",
   "metadata": {},
   "outputs": [
    {
     "data": {
      "text/plain": [
       "array([0.96861626, 0.94864479, 0.95149786, 0.96433666, 0.96714286])"
      ]
     },
     "execution_count": 97,
     "metadata": {},
     "output_type": "execute_result"
    }
   ],
   "source": [
    "from sklearn.model_selection import cross_val_score\n",
    "\n",
    "valid_score = cross_val_score(multi_nb, X_train_cv, y_train)\n",
    "valid_score"
   ]
  },
  {
   "cell_type": "code",
   "execution_count": 98,
   "id": "b86a95fd",
   "metadata": {},
   "outputs": [
    {
     "data": {
      "text/plain": [
       "0.9600476869777868"
      ]
     },
     "execution_count": 98,
     "metadata": {},
     "output_type": "execute_result"
    }
   ],
   "source": [
    "valid_score.mean()"
   ]
  },
  {
   "cell_type": "code",
   "execution_count": 99,
   "id": "dd2c1a62",
   "metadata": {},
   "outputs": [
    {
     "name": "stdout",
     "output_type": "stream",
     "text": [
      "              precision    recall  f1-score   support\n",
      "\n",
      "           0       0.99      0.97      0.98       102\n",
      "           1       1.00      0.98      0.99       106\n",
      "           2       1.00      1.00      1.00        78\n",
      "           3       0.99      0.99      0.99       125\n",
      "           4       0.97      0.98      0.98       149\n",
      "           5       0.98      0.98      0.98        51\n",
      "           6       0.97      0.98      0.98       265\n",
      "\n",
      "    accuracy                           0.98       876\n",
      "   macro avg       0.99      0.98      0.99       876\n",
      "weighted avg       0.98      0.98      0.98       876\n",
      "\n"
     ]
    }
   ],
   "source": [
    "print(classification_report(y_test, multi_nb.predict(X_test_cv)))"
   ]
  },
  {
   "cell_type": "code",
   "execution_count": 101,
   "id": "fd3f5116",
   "metadata": {},
   "outputs": [
    {
     "data": {
      "text/plain": [
       "LogisticRegression(multi_class='ovr', random_state=42)"
      ]
     },
     "execution_count": 101,
     "metadata": {},
     "output_type": "execute_result"
    }
   ],
   "source": [
    "from sklearn.linear_model import LogisticRegression\n",
    "\n",
    "logit = LogisticRegression(multi_class = 'ovr', random_state = 42)\n",
    "logit.fit(X_train_cv, y_train)"
   ]
  },
  {
   "cell_type": "code",
   "execution_count": 102,
   "id": "c698146c",
   "metadata": {},
   "outputs": [
    {
     "data": {
      "text/plain": [
       "0.9994292237442922"
      ]
     },
     "execution_count": 102,
     "metadata": {},
     "output_type": "execute_result"
    }
   ],
   "source": [
    "logit.score(X_train_cv, y_train)"
   ]
  },
  {
   "cell_type": "code",
   "execution_count": 103,
   "id": "9e448160",
   "metadata": {},
   "outputs": [
    {
     "data": {
      "text/plain": [
       "array([0.93437946, 0.92011412, 0.90299572, 0.91440799, 0.92428571])"
      ]
     },
     "execution_count": 103,
     "metadata": {},
     "output_type": "execute_result"
    }
   ],
   "source": [
    "valid_logit = cross_val_score(logit, X_train_cv, y_train)\n",
    "valid_logit"
   ]
  },
  {
   "cell_type": "code",
   "execution_count": 104,
   "id": "e5856660",
   "metadata": {},
   "outputs": [
    {
     "data": {
      "text/plain": [
       "0.9192366007744038"
      ]
     },
     "execution_count": 104,
     "metadata": {},
     "output_type": "execute_result"
    }
   ],
   "source": [
    "valid_logit.mean()"
   ]
  },
  {
   "cell_type": "code",
   "execution_count": 110,
   "id": "6d9a3c3c",
   "metadata": {},
   "outputs": [
    {
     "name": "stdout",
     "output_type": "stream",
     "text": [
      "Accuracy on test set: 0.9406392694063926\n",
      "              precision    recall  f1-score   support\n",
      "\n",
      "           0       0.99      0.90      0.94       102\n",
      "           1       1.00      0.93      0.97       106\n",
      "           2       1.00      0.94      0.97        78\n",
      "           3       0.97      0.93      0.95       125\n",
      "           4       1.00      0.90      0.95       149\n",
      "           5       1.00      0.88      0.94        51\n",
      "           6       0.85      1.00      0.92       265\n",
      "\n",
      "    accuracy                           0.94       876\n",
      "   macro avg       0.97      0.93      0.95       876\n",
      "weighted avg       0.95      0.94      0.94       876\n",
      "\n"
     ]
    }
   ],
   "source": [
    "print('Accuracy on test set: {}'.format(logit.score(X_test_cv, y_test)))\n",
    "print(classification_report(y_test, logit.predict(X_test_cv)))"
   ]
  },
  {
   "cell_type": "code",
   "execution_count": 112,
   "id": "3ca81447",
   "metadata": {},
   "outputs": [
    {
     "data": {
      "text/plain": [
       "SVC(random_state=42)"
      ]
     },
     "execution_count": 112,
     "metadata": {},
     "output_type": "execute_result"
    }
   ],
   "source": [
    "from sklearn.svm import SVC\n",
    "\n",
    "svc = SVC(random_state = 42)\n",
    "svc.fit(X_train_cv, y_train)"
   ]
  },
  {
   "cell_type": "code",
   "execution_count": 113,
   "id": "be831300",
   "metadata": {},
   "outputs": [
    {
     "data": {
      "text/plain": [
       "0.9249429223744292"
      ]
     },
     "execution_count": 113,
     "metadata": {},
     "output_type": "execute_result"
    }
   ],
   "source": [
    "svc.score(X_train_cv, y_train)"
   ]
  },
  {
   "cell_type": "code",
   "execution_count": 114,
   "id": "04dce03a",
   "metadata": {},
   "outputs": [
    {
     "name": "stdout",
     "output_type": "stream",
     "text": [
      "SVC cross-validation took: 8.37 minutes\n"
     ]
    }
   ],
   "source": [
    "import time\n",
    "\n",
    "t1 = time.time()\n",
    "valid_svc = cross_val_score(svc, X_train_cv, y_train)\n",
    "t2 = time.time()\n",
    "\n",
    "print('SVC cross-validation took: {:.2f} minutes'.format((t2 - t1)/60))"
   ]
  },
  {
   "cell_type": "code",
   "execution_count": 115,
   "id": "67701d55",
   "metadata": {},
   "outputs": [
    {
     "data": {
      "text/plain": [
       "0.7768220908905645"
      ]
     },
     "execution_count": 115,
     "metadata": {},
     "output_type": "execute_result"
    }
   ],
   "source": [
    "valid_svc.mean()"
   ]
  },
  {
   "cell_type": "code",
   "execution_count": 116,
   "id": "a8f31cc8",
   "metadata": {},
   "outputs": [
    {
     "name": "stdout",
     "output_type": "stream",
     "text": [
      "Accuracy on test set: 0.8059360730593608\n",
      "              precision    recall  f1-score   support\n",
      "\n",
      "           0       0.97      0.70      0.81       102\n",
      "           1       1.00      0.69      0.82       106\n",
      "           2       1.00      0.77      0.87        78\n",
      "           3       1.00      0.74      0.85       125\n",
      "           4       1.00      0.76      0.86       149\n",
      "           5       1.00      0.61      0.76        51\n",
      "           6       0.61      1.00      0.76       265\n",
      "\n",
      "    accuracy                           0.81       876\n",
      "   macro avg       0.94      0.75      0.82       876\n",
      "weighted avg       0.88      0.81      0.81       876\n",
      "\n"
     ]
    }
   ],
   "source": [
    "print('Accuracy on test set: {}'.format(svc.score(X_test_cv, y_test)))\n",
    "print(classification_report(y_test, svc.predict(X_test_cv)))"
   ]
  },
  {
   "cell_type": "code",
   "execution_count": 117,
   "id": "3c5c59e5",
   "metadata": {},
   "outputs": [
    {
     "name": "stderr",
     "output_type": "stream",
     "text": [
      "/Library/Frameworks/Python.framework/Versions/3.8/lib/python3.8/site-packages/sklearn/svm/_base.py:985: ConvergenceWarning: Liblinear failed to converge, increase the number of iterations.\n",
      "  warnings.warn(\"Liblinear failed to converge, increase \"\n"
     ]
    },
    {
     "data": {
      "text/plain": [
       "LinearSVC(random_state=42)"
      ]
     },
     "execution_count": 117,
     "metadata": {},
     "output_type": "execute_result"
    }
   ],
   "source": [
    "from sklearn.svm import LinearSVC\n",
    "\n",
    "lin_svc = LinearSVC(random_state = 42)\n",
    "lin_svc.fit(X_train_cv, y_train)"
   ]
  },
  {
   "cell_type": "code",
   "execution_count": 118,
   "id": "ddd4671d",
   "metadata": {},
   "outputs": [
    {
     "data": {
      "text/plain": [
       "0.9997146118721462"
      ]
     },
     "execution_count": 118,
     "metadata": {},
     "output_type": "execute_result"
    }
   ],
   "source": [
    "lin_svc.score(X_train_cv, y_train)"
   ]
  },
  {
   "cell_type": "code",
   "execution_count": 119,
   "id": "fd318909",
   "metadata": {},
   "outputs": [
    {
     "name": "stderr",
     "output_type": "stream",
     "text": [
      "/Library/Frameworks/Python.framework/Versions/3.8/lib/python3.8/site-packages/sklearn/svm/_base.py:985: ConvergenceWarning: Liblinear failed to converge, increase the number of iterations.\n",
      "  warnings.warn(\"Liblinear failed to converge, increase \"\n",
      "/Library/Frameworks/Python.framework/Versions/3.8/lib/python3.8/site-packages/sklearn/svm/_base.py:985: ConvergenceWarning: Liblinear failed to converge, increase the number of iterations.\n",
      "  warnings.warn(\"Liblinear failed to converge, increase \"\n",
      "/Library/Frameworks/Python.framework/Versions/3.8/lib/python3.8/site-packages/sklearn/svm/_base.py:985: ConvergenceWarning: Liblinear failed to converge, increase the number of iterations.\n",
      "  warnings.warn(\"Liblinear failed to converge, increase \"\n",
      "/Library/Frameworks/Python.framework/Versions/3.8/lib/python3.8/site-packages/sklearn/svm/_base.py:985: ConvergenceWarning: Liblinear failed to converge, increase the number of iterations.\n",
      "  warnings.warn(\"Liblinear failed to converge, increase \"\n",
      "/Library/Frameworks/Python.framework/Versions/3.8/lib/python3.8/site-packages/sklearn/svm/_base.py:985: ConvergenceWarning: Liblinear failed to converge, increase the number of iterations.\n",
      "  warnings.warn(\"Liblinear failed to converge, increase \"\n"
     ]
    },
    {
     "data": {
      "text/plain": [
       "array([0.91440799, 0.90442225, 0.89015692, 0.90870185, 0.90714286])"
      ]
     },
     "execution_count": 119,
     "metadata": {},
     "output_type": "execute_result"
    }
   ],
   "source": [
    "valid_lin_svc = cross_val_score(lin_svc, X_train_cv, y_train)\n",
    "valid_lin_svc"
   ]
  },
  {
   "cell_type": "code",
   "execution_count": 120,
   "id": "3f2cdc4a",
   "metadata": {},
   "outputs": [
    {
     "data": {
      "text/plain": [
       "0.9049663745669452"
      ]
     },
     "execution_count": 120,
     "metadata": {},
     "output_type": "execute_result"
    }
   ],
   "source": [
    "valid_lin_svc.mean()"
   ]
  },
  {
   "cell_type": "code",
   "execution_count": 121,
   "id": "0dae99a6",
   "metadata": {},
   "outputs": [
    {
     "name": "stdout",
     "output_type": "stream",
     "text": [
      "Accuracy on test set: 0.9429223744292238\n",
      "              precision    recall  f1-score   support\n",
      "\n",
      "           0       0.92      0.93      0.93       102\n",
      "           1       1.00      0.93      0.97       106\n",
      "           2       1.00      0.94      0.97        78\n",
      "           3       0.84      0.97      0.90       125\n",
      "           4       0.98      0.91      0.94       149\n",
      "           5       0.98      0.92      0.95        51\n",
      "           6       0.94      0.97      0.96       265\n",
      "\n",
      "    accuracy                           0.94       876\n",
      "   macro avg       0.95      0.94      0.94       876\n",
      "weighted avg       0.95      0.94      0.94       876\n",
      "\n"
     ]
    }
   ],
   "source": [
    "print('Accuracy on test set: {}'.format(lin_svc.score(X_test_cv, y_test)))\n",
    "print(classification_report(y_test, lin_svc.predict(X_test_cv)))"
   ]
  },
  {
   "cell_type": "code",
   "execution_count": 122,
   "id": "f1e7883d",
   "metadata": {},
   "outputs": [
    {
     "data": {
      "text/plain": [
       "RandomForestClassifier(random_state=42)"
      ]
     },
     "execution_count": 122,
     "metadata": {},
     "output_type": "execute_result"
    }
   ],
   "source": [
    "from sklearn.ensemble import RandomForestClassifier\n",
    "\n",
    "forest_clf = RandomForestClassifier(random_state = 42)\n",
    "forest_clf.fit(X_train_cv, y_train)"
   ]
  },
  {
   "cell_type": "code",
   "execution_count": 123,
   "id": "6932c3fd",
   "metadata": {},
   "outputs": [
    {
     "data": {
      "text/plain": [
       "0.9997146118721462"
      ]
     },
     "execution_count": 123,
     "metadata": {},
     "output_type": "execute_result"
    }
   ],
   "source": [
    "forest_clf.score(X_train_cv, y_train)"
   ]
  },
  {
   "cell_type": "code",
   "execution_count": 124,
   "id": "d2045e44",
   "metadata": {},
   "outputs": [
    {
     "data": {
      "text/plain": [
       "0.8798565314856328"
      ]
     },
     "execution_count": 124,
     "metadata": {},
     "output_type": "execute_result"
    }
   ],
   "source": [
    "valid_forest = cross_val_score(forest_clf, X_train_cv, y_train)\n",
    "valid_forest.mean()"
   ]
  },
  {
   "cell_type": "code",
   "execution_count": 125,
   "id": "9ec1cdec",
   "metadata": {},
   "outputs": [
    {
     "name": "stdout",
     "output_type": "stream",
     "text": [
      "Accuracy on test set: 0.9212328767123288\n",
      "              precision    recall  f1-score   support\n",
      "\n",
      "           0       0.79      0.92      0.85       102\n",
      "           1       1.00      0.88      0.93       106\n",
      "           2       0.99      0.92      0.95        78\n",
      "           3       0.88      0.94      0.91       125\n",
      "           4       0.99      0.89      0.94       149\n",
      "           5       1.00      0.86      0.93        51\n",
      "           6       0.91      0.96      0.93       265\n",
      "\n",
      "    accuracy                           0.92       876\n",
      "   macro avg       0.94      0.91      0.92       876\n",
      "weighted avg       0.93      0.92      0.92       876\n",
      "\n"
     ]
    }
   ],
   "source": [
    "print('Accuracy on test set: {}'.format(forest_clf.score(X_test_cv, y_test)))\n",
    "print(classification_report(y_test, forest_clf.predict(X_test_cv)))"
   ]
  },
  {
   "cell_type": "code",
   "execution_count": 127,
   "id": "f0216f5f",
   "metadata": {},
   "outputs": [
    {
     "name": "stdout",
     "output_type": "stream",
     "text": [
      "GridSearchCV on RandomForest took: 2.77 minutes.\n"
     ]
    }
   ],
   "source": [
    "from sklearn.model_selection import GridSearchCV\n",
    "\n",
    "params_forest = {'n_estimators': [90, 120, 150],\n",
    "                 'bootstrap': [True, False],\n",
    "                 'max_depth': [1, 3, 5, 7, None]}\n",
    "\n",
    "grid_search_forest = GridSearchCV(RandomForestClassifier(random_state = 42),\n",
    "                                  params_forest,\n",
    "                                  cv = 4,\n",
    "                                  n_jobs = -1)\n",
    "t1 = time.time()\n",
    "grid_search_forest.fit(X_train_cv, y_train)\n",
    "t2 = time.time()\n",
    "\n",
    "print('GridSearchCV on RandomForest took: {:.2f} minutes.'.format((t2 - t1) / 60))"
   ]
  },
  {
   "cell_type": "code",
   "execution_count": 128,
   "id": "1434a052",
   "metadata": {},
   "outputs": [
    {
     "data": {
      "text/plain": [
       "{'bootstrap': False, 'max_depth': None, 'n_estimators': 150}"
      ]
     },
     "execution_count": 128,
     "metadata": {},
     "output_type": "execute_result"
    }
   ],
   "source": [
    "grid_search_forest.best_params_"
   ]
  },
  {
   "cell_type": "code",
   "execution_count": 129,
   "id": "01c0ecf4",
   "metadata": {},
   "outputs": [
    {
     "data": {
      "text/plain": [
       "0.8952679845119219"
      ]
     },
     "execution_count": 129,
     "metadata": {},
     "output_type": "execute_result"
    }
   ],
   "source": [
    "cross_val_score(grid_search_forest, X_train_cv, y_train).mean()"
   ]
  },
  {
   "cell_type": "code",
   "execution_count": 130,
   "id": "32aa3a23",
   "metadata": {},
   "outputs": [
    {
     "data": {
      "text/plain": [
       "ExtraTreesClassifier(random_state=42)"
      ]
     },
     "execution_count": 130,
     "metadata": {},
     "output_type": "execute_result"
    }
   ],
   "source": [
    "from sklearn.ensemble import ExtraTreesClassifier\n",
    "\n",
    "trees = ExtraTreesClassifier(random_state = 42)\n",
    "trees.fit(X_train_cv, y_train)"
   ]
  },
  {
   "cell_type": "code",
   "execution_count": 131,
   "id": "83962fca",
   "metadata": {},
   "outputs": [
    {
     "data": {
      "text/plain": [
       "0.9997146118721462"
      ]
     },
     "execution_count": 131,
     "metadata": {},
     "output_type": "execute_result"
    }
   ],
   "source": [
    "trees.score(X_train_cv, y_train)"
   ]
  },
  {
   "cell_type": "code",
   "execution_count": 132,
   "id": "592059e8",
   "metadata": {},
   "outputs": [
    {
     "data": {
      "text/plain": [
       "0.8935565518646831"
      ]
     },
     "execution_count": 132,
     "metadata": {},
     "output_type": "execute_result"
    }
   ],
   "source": [
    "valid_trees = cross_val_score(trees, X_train_cv, y_train)\n",
    "valid_trees.mean()"
   ]
  },
  {
   "cell_type": "code",
   "execution_count": 133,
   "id": "6483ce81",
   "metadata": {},
   "outputs": [
    {
     "name": "stdout",
     "output_type": "stream",
     "text": [
      "Accuracy on test set: 0.930365296803653\n",
      "              precision    recall  f1-score   support\n",
      "\n",
      "           0       0.90      0.93      0.91       102\n",
      "           1       0.99      0.92      0.96       106\n",
      "           2       1.00      0.91      0.95        78\n",
      "           3       0.82      0.96      0.88       125\n",
      "           4       1.00      0.89      0.94       149\n",
      "           5       1.00      0.86      0.93        51\n",
      "           6       0.92      0.96      0.94       265\n",
      "\n",
      "    accuracy                           0.93       876\n",
      "   macro avg       0.95      0.92      0.93       876\n",
      "weighted avg       0.94      0.93      0.93       876\n",
      "\n"
     ]
    }
   ],
   "source": [
    "print('Accuracy on test set: {}'.format(trees.score(X_test_cv, y_test)))\n",
    "print(classification_report(y_test, trees.predict(X_test_cv)))"
   ]
  },
  {
   "cell_type": "code",
   "execution_count": 134,
   "id": "e17bdada",
   "metadata": {},
   "outputs": [
    {
     "name": "stdout",
     "output_type": "stream",
     "text": [
      "Grid Search ExtraTreesClassifier took 6.25 minutes.\n"
     ]
    }
   ],
   "source": [
    "params_trees = {'n_estimators': [90, 120, 300, 350],\n",
    "                'bootstrap': [True, False], \n",
    "                'max_depth': [1, 3, 5, 7, None]}\n",
    "\n",
    "grid_search_trees = GridSearchCV(ExtraTreesClassifier(random_state = 42), params_trees, cv=4, n_jobs = -1)\n",
    "t1 = time.time()\n",
    "grid_search_trees.fit(X_train_cv, y_train)\n",
    "t2 = time.time()\n",
    "\n",
    "print('Grid Search ExtraTreesClassifier took {:.2f} minutes.'.format((t2 - t1) / 60))"
   ]
  },
  {
   "cell_type": "code",
   "execution_count": 136,
   "id": "3b2b84d2",
   "metadata": {},
   "outputs": [
    {
     "data": {
      "text/plain": [
       "{'bootstrap': False, 'max_depth': None, 'n_estimators': 350}"
      ]
     },
     "execution_count": 136,
     "metadata": {},
     "output_type": "execute_result"
    }
   ],
   "source": [
    "grid_search_trees.best_params_"
   ]
  },
  {
   "cell_type": "code",
   "execution_count": 137,
   "id": "6a7532f0",
   "metadata": {},
   "outputs": [
    {
     "data": {
      "text/plain": [
       "0.9997146118721462"
      ]
     },
     "execution_count": 137,
     "metadata": {},
     "output_type": "execute_result"
    }
   ],
   "source": [
    "grid_search_trees.score(X_train_cv, y_train)"
   ]
  },
  {
   "cell_type": "code",
   "execution_count": 138,
   "id": "4d71a48c",
   "metadata": {
    "scrolled": true
   },
   "outputs": [
    {
     "name": "stdout",
     "output_type": "stream",
     "text": [
      "Accuracy on test set: 0.9292237442922374\n",
      "              precision    recall  f1-score   support\n",
      "\n",
      "           0       0.90      0.92      0.91       102\n",
      "           1       1.00      0.92      0.96       106\n",
      "           2       1.00      0.94      0.97        78\n",
      "           3       0.79      0.98      0.87       125\n",
      "           4       0.99      0.89      0.94       149\n",
      "           5       1.00      0.86      0.93        51\n",
      "           6       0.94      0.95      0.94       265\n",
      "\n",
      "    accuracy                           0.93       876\n",
      "   macro avg       0.94      0.92      0.93       876\n",
      "weighted avg       0.94      0.93      0.93       876\n",
      "\n"
     ]
    }
   ],
   "source": [
    "print('Accuracy on test set: {}'.format(grid_search_trees.score(X_test_cv, y_test)))\n",
    "print(classification_report(y_test, grid_search_trees.predict(X_test_cv)))"
   ]
  },
  {
   "cell_type": "code",
   "execution_count": null,
   "id": "18aded77",
   "metadata": {},
   "outputs": [],
   "source": [
    "from sklearn.ensemble import AdaBoostClassifier\n",
    "\n",
    "ada_clf = AdaBoostClassifier(RandomForestClassifier(n_estimators = 150, bootstrap = False, random_state = 42),\n",
    "                             learning_rate = 0.5, n_estimators = 100, random_state = 42)\n",
    "t1 = time.time()\n",
    "ada_clf.fit(X_train_cv, y_train)\n",
    "t2 = time.time()\n",
    "\n",
    "print('AdaBoostClassifier training took: {:.2f} minutes.'.format((t2 - t1) / 60))"
   ]
  },
  {
   "cell_type": "code",
   "execution_count": null,
   "id": "a574609a",
   "metadata": {},
   "outputs": [],
   "source": []
  }
 ],
 "metadata": {
  "kernelspec": {
   "display_name": "Python 3",
   "language": "python",
   "name": "python3"
  },
  "language_info": {
   "codemirror_mode": {
    "name": "ipython",
    "version": 3
   },
   "file_extension": ".py",
   "mimetype": "text/x-python",
   "name": "python",
   "nbconvert_exporter": "python",
   "pygments_lexer": "ipython3",
   "version": "3.8.10"
  }
 },
 "nbformat": 4,
 "nbformat_minor": 5
}
